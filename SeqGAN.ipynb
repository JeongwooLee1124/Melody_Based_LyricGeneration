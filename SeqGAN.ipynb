{
 "cells": [
  {
   "cell_type": "code",
   "execution_count": 1,
   "id": "66b8d8ef",
   "metadata": {},
   "outputs": [
    {
     "name": "stderr",
     "output_type": "stream",
     "text": [
      "WARNING:root:Limited tf.compat.v2.summary API due to missing TensorBoard installation.\n",
      "WARNING:root:Limited tf.compat.v2.summary API due to missing TensorBoard installation.\n",
      "WARNING:root:Limited tf.compat.v2.summary API due to missing TensorBoard installation.\n",
      "WARNING:root:Limited tf.summary API due to missing TensorBoard installation.\n"
     ]
    }
   ],
   "source": [
    "import numpy as np\n",
    "import matplotlib.pyplot as plt\n",
    "import os\n",
    "from tqdm import tqdm\n",
    "import pickle\n",
    "import math\n",
    "import random\n",
    "from numba import cuda\n",
    "import copy\n",
    "\n",
    "import torch\n",
    "import torch.nn as nn\n",
    "import torch.nn.functional as F\n",
    "import torch.optim as optim\n",
    "from torch.utils.data import Dataset, DataLoader\n",
    "\n",
    "import tensorflow as tf\n",
    "from tensorflow.keras.preprocessing.text import Tokenizer\n",
    "from tensorflow.keras.preprocessing.sequence import pad_sequences\n",
    "\n",
    "from nltk.translate.bleu_score import sentence_bleu, corpus_bleu, SmoothingFunction\n",
    "from torchmetrics.text.bert import BERTScore\n",
    "from nltk.sentiment.vader import SentimentIntensityAnalyzer\n",
    "from torchmetrics.text.rouge import ROUGEScore\n",
    "from nltk.sentiment.vader import SentimentIntensityAnalyzer"
   ]
  },
  {
   "cell_type": "markdown",
   "id": "8662135f",
   "metadata": {},
   "source": [
    "## Preprocessing, load tokenizers, set seed, initialize parameters"
   ]
  },
  {
   "cell_type": "code",
   "execution_count": 2,
   "id": "d3429054",
   "metadata": {},
   "outputs": [
    {
     "name": "stdout",
     "output_type": "stream",
     "text": [
      "True\n"
     ]
    }
   ],
   "source": [
    "device = cuda.get_current_device()\n",
    "device.reset()\n",
    "\n",
    "print(torch.cuda.is_available())\n",
    "torch.cuda.empty_cache()\n",
    "\n",
    "seed = 42\n",
    "os.environ['CUDA_LAUNCH_BLOCKING'] = \"1\"\n",
    "# torch.backends.cudnn.benchmark = True\n",
    "# torch.backends.cudnn.deterministic = True\n",
    "torch.backends.cudnn.enabled = False\n",
    "torch.manual_seed(seed)\n",
    "tf.random.set_seed(seed)\n",
    "\n",
    "np.random.seed(seed)\n",
    "random.seed(seed)"
   ]
  },
  {
   "cell_type": "code",
   "execution_count": 2,
   "id": "8a5476b6",
   "metadata": {},
   "outputs": [
    {
     "name": "stdout",
     "output_type": "stream",
     "text": [
      "(1867, 202, 4)\n",
      "(1867, 202) (1867, 202) (1867, 202) (1867, 202)\n"
     ]
    }
   ],
   "source": [
    "data_matrix = np.load(\"data/sequences.npy\")\n",
    "print(data_matrix.shape)\n",
    "\n",
    "lyrics = data_matrix[:, :, 0]\n",
    "notes = data_matrix[:, :, 1]\n",
    "durations = data_matrix[:, :, 2]\n",
    "rests = data_matrix[:, :, 3]\n",
    "\n",
    "print(lyrics.shape, notes.shape, durations.shape, rests.shape)"
   ]
  },
  {
   "cell_type": "code",
   "execution_count": 3,
   "id": "d564e820",
   "metadata": {},
   "outputs": [],
   "source": [
    "def load_tokenizer(file):\n",
    "    with open(file, 'rb') as f:\n",
    "        data = pickle.load(f)\n",
    "        tokenizer = data['tokenizer']\n",
    "    return tokenizer"
   ]
  },
  {
   "cell_type": "code",
   "execution_count": 4,
   "id": "cd719eb4",
   "metadata": {},
   "outputs": [],
   "source": [
    "tokenizer_lyr = load_tokenizer(\"tokenizers/tokenizer_lyr.pkl\")\n",
    "tokenizer_note = load_tokenizer(\"tokenizers/tokenizer_note.pkl\")\n",
    "tokenizer_duration = load_tokenizer(\"tokenizers/tokenizer_duration.pkl\")\n",
    "tokenizer_rest = load_tokenizer(\"tokenizers/tokenizer_rest.pkl\")"
   ]
  },
  {
   "cell_type": "code",
   "execution_count": 6,
   "id": "f44df1fe",
   "metadata": {},
   "outputs": [],
   "source": [
    "num_songs = len(lyrics)\n",
    "num_samples = 1600\n",
    "train_inds = np.random.choice(np.arange(num_songs), size=num_samples, replace=False)\n",
    "test_inds = np.delete(np.arange(num_songs), train_inds)\n",
    "\n",
    "train_lyrics = [lyrics[i] for i in train_inds]\n",
    "test_lyrics = [lyrics[i] for i in test_inds]\n",
    "\n",
    "train_notes = [notes[i] for i in train_inds]\n",
    "test_notes = [notes[i] for i in test_inds]\n",
    "\n",
    "train_durations = [durations[i] for i in train_inds]\n",
    "test_durations = [durations[i] for i in test_inds]\n",
    "\n",
    "train_rests = [rests[i] for i in train_inds]\n",
    "test_rests = [rests[i] for i in test_inds]\n",
    "\n",
    "# General params\n",
    "vocab_size = min(len(tokenizer_lyr.word_index) + 1, 10000)\n",
    "notes_size = len(tokenizer_note.word_index) + 1\n",
    "durations_size = len(tokenizer_duration.word_index) + 1\n",
    "rests_size = len(tokenizer_rest.word_index) + 1\n",
    "\n",
    "pad_id_lyr = tokenizer_lyr.word_index[\"eos\"]\n",
    "start_id_lyr = tokenizer_lyr.word_index[\"bos\"]\n",
    "\n",
    "pad_id_note = tokenizer_note.word_index[\"eos\"]\n",
    "start_id_note = tokenizer_note.word_index[\"bos\"]\n",
    "\n",
    "pad_id_duration = tokenizer_duration.word_index[\"eos\"]\n",
    "start_id_duration = tokenizer_duration.word_index[\"bos\"]\n",
    "\n",
    "pad_id_rest = tokenizer_rest.word_index[\"eos\"]\n",
    "start_id_rest = tokenizer_rest.word_index[\"bos\"]\n",
    "\n",
    "max_seq_len = lyrics.shape[1]\n",
    "batch_size = 32\n",
    "\n",
    "chencherry = SmoothingFunction()\n",
    "\n",
    "# Generator params\n",
    "g_dropout = 0.3\n",
    "g_embed_dim = 32\n",
    "g_hidden = 32\n",
    "pretrain_epochs_gen = 150\n",
    "g_lr_pretrain = 0.01\n",
    "g_lr_adv = 1e-4\n",
    "\n",
    "# Discriminator params\n",
    "d_embed_dim = 64\n",
    "d_filter_sizes = [1, 2, 3, 4, 5, 6, 7, 8, 9, 10, 15, 20]\n",
    "d_num_filters = [100, 200, 200, 200, 200, 100, 100, 100, 100, 100, 160, 160]\n",
    "d_dropout_prob = 0.2\n",
    "d_lr = 1e-4\n",
    "\n",
    "\n",
    "rollout_num = 16\n",
    "clip_norm = 5.0\n",
    "\n",
    "adversarial_epochs = 150"
   ]
  },
  {
   "cell_type": "code",
   "execution_count": 7,
   "id": "a8249cb2",
   "metadata": {},
   "outputs": [
    {
     "data": {
      "text/plain": [
       "202"
      ]
     },
     "execution_count": 7,
     "metadata": {},
     "output_type": "execute_result"
    }
   ],
   "source": [
    "max_seq_len "
   ]
  },
  {
   "cell_type": "markdown",
   "id": "198d83f9",
   "metadata": {},
   "source": [
    "## Model initialization and training"
   ]
  },
  {
   "cell_type": "code",
   "execution_count": 8,
   "id": "2fe0fcf4",
   "metadata": {},
   "outputs": [],
   "source": [
    "def truncated_normal_(tensor, mean=0, std=1):\n",
    "    \"\"\"\n",
    "    Implemented by @ruotianluo\n",
    "    See https://discuss.pytorch.org/t/implementing-truncated-normal-initializer/4778/15\n",
    "    \"\"\"\n",
    "    size = tensor.shape\n",
    "    tmp = tensor.new_empty(size + (4,)).normal_()\n",
    "    valid = (tmp < 2) & (tmp > -2)\n",
    "    ind = valid.max(-1, keepdim=True)[1]\n",
    "    tensor.data.copy_(tmp.gather(-1, ind).squeeze(-1))\n",
    "    tensor.data.mul_(std).add_(mean)\n",
    "    return tensor"
   ]
  },
  {
   "cell_type": "code",
   "execution_count": 9,
   "id": "4828ee96",
   "metadata": {},
   "outputs": [],
   "source": [
    "class LSTMGenerator(nn.Module):\n",
    "\n",
    "    def __init__(self, embedding_dim, hidden_dim, vocab_size, note_size,\n",
    "                 duration_size, rest_size, max_seq_len, pad_id_lyr,\n",
    "                 pad_id_note, pad_id_dur, pad_id_rest, gpu=False):\n",
    "        super(LSTMGenerator, self).__init__()\n",
    "        self.name = 'vanilla'\n",
    "\n",
    "        self.hidden_dim = hidden_dim\n",
    "        self.embedding_dim = embedding_dim\n",
    "        self.max_seq_len = max_seq_len\n",
    "        self.vocab_size = vocab_size\n",
    "        self.note_size = vocab_size\n",
    "        self.duration_size = vocab_size\n",
    "        self.rest_size = vocab_size\n",
    "        self.pad_id_lyr = pad_id_lyr\n",
    "        self.pad_id_note = pad_id_note\n",
    "        self.pad_id_dur = pad_id_dur\n",
    "        self.pad_id_rest = pad_id_rest\n",
    "        self.gpu = gpu\n",
    "\n",
    "        self.embeddings_lyr = nn.Embedding(vocab_size, embedding_dim, padding_idx=pad_id_lyr)\n",
    "        self.embeddings_note = nn.Embedding(note_size, embedding_dim, padding_idx=pad_id_note)\n",
    "        self.embeddings_dur = nn.Embedding(duration_size, embedding_dim, padding_idx=pad_id_dur)\n",
    "        self.embeddings_rest = nn.Embedding(rest_size, embedding_dim, padding_idx=pad_id_rest)\n",
    "        self.lstm = nn.LSTM(embedding_dim*4, hidden_dim, batch_first=True)\n",
    "        self.lstm2out = nn.Linear(hidden_dim, vocab_size)\n",
    "        self.softmax = nn.LogSoftmax(dim=-1)\n",
    "\n",
    "        self.init_params()\n",
    "\n",
    "    def forward(self, inp, mel, hidden, need_hidden=False):\n",
    "        \"\"\"\n",
    "        Embeds input and applies LSTM\n",
    "        :param inp: batch_size * seq_len\n",
    "        :param hidden: (h, c)\n",
    "        :param need_hidden: if return hidden, use for sampling\n",
    "        \"\"\"\n",
    "        if len(mel.shape) == 2:\n",
    "            notes = mel[:, 0]\n",
    "            durations = mel[:, 1]\n",
    "            rests = mel[:, 2]\n",
    "        else:\n",
    "            notes = mel[:, :, 0]\n",
    "            durations = mel[:, :, 1]\n",
    "            rests = mel[:, :, 2]\n",
    "\n",
    "        emb_lyr = self.embeddings_lyr(inp)  # batch_size * len * embedding_dim\n",
    "        emb_note = self.embeddings_note(notes)\n",
    "        emb_dur = self.embeddings_dur(durations)\n",
    "        emb_rest = self.embeddings_rest(rests)\n",
    "        \n",
    "        if len(inp.size()) == 1:\n",
    "            emb_lyr = emb_lyr.unsqueeze(1)  # batch_size * 1 * embedding_dim\n",
    "            emb_note = emb_note.unsqueeze(1)\n",
    "            emb_dur = emb_dur.unsqueeze(1)\n",
    "            emb_rest = emb_rest.unsqueeze(1)\n",
    "            \n",
    "        emb = torch.cat([emb_lyr, emb_note, emb_dur, emb_rest], dim=2)\n",
    "\n",
    "        out, hidden = self.lstm(emb, hidden)  # out: batch_size * seq_len * hidden_dim\n",
    "        out = out.contiguous().view(-1, self.hidden_dim)  # out: (batch_size * len) * hidden_dim\n",
    "        out = self.lstm2out(out)  # (batch_size * seq_len) * vocab_size\n",
    "        pred = self.softmax(out)\n",
    "\n",
    "        if need_hidden:\n",
    "            return pred, hidden\n",
    "        else:\n",
    "            return pred\n",
    "\n",
    "    def sample(self, melody, num_samples, batch_size, start_letter=1): #sample lyrics genorator\n",
    "        \"\"\"\n",
    "        Samples the network and returns num_samples samples of length max_seq_len.\n",
    "        :return samples: num_samples * max_seq_length (a sampled sequence in each row)\n",
    "        \"\"\"\n",
    "        num_batch = num_samples // batch_size if num_samples != batch_size else 1\n",
    "        samples = torch.zeros(num_batch * batch_size, self.max_seq_len).long()\n",
    "\n",
    "        # Generate sentences with multinomial sampling strategy\n",
    "        for b in range(num_batch):\n",
    "            hidden = self.init_hidden(batch_size)\n",
    "            inp = torch.LongTensor([start_letter] * batch_size)\n",
    "            mel_batch = melody[b * batch_size:(b+1) * batch_size, :]\n",
    "            if self.gpu:\n",
    "                inp = inp.cuda()\n",
    "                mel_batch = mel_batch.cuda()\n",
    "\n",
    "            for i in range(self.max_seq_len):\n",
    "                y = mel_batch[:, i, :]\n",
    "                out, hidden = self.forward(inp, y, hidden, need_hidden=True)  # out: batch_size * vocab_size\n",
    "                next_token = torch.multinomial(torch.exp(out), 1)  # batch_size * 1 (sampling from each row)\n",
    "                samples[b * batch_size:(b + 1) * batch_size, i] = next_token.view(-1)\n",
    "                inp = next_token.view(-1)\n",
    "        samples = samples[:num_samples]\n",
    "\n",
    "        return samples\n",
    "\n",
    "    def init_params(self):\n",
    "        for param in self.parameters():\n",
    "            if param.requires_grad and len(param.shape) > 0:\n",
    "                stddev = 1 / math.sqrt(param.shape[0])\n",
    "                truncated_normal_(param, std=stddev)\n",
    "\n",
    "    def init_hidden(self, batch_size=32):\n",
    "        h = torch.zeros(1, batch_size, self.hidden_dim)\n",
    "        c = torch.zeros(1, batch_size, self.hidden_dim)\n",
    "\n",
    "        if self.gpu:\n",
    "            return h.cuda(), c.cuda()\n",
    "        else:\n",
    "            return h, c"
   ]
  },
  {
   "cell_type": "code",
   "execution_count": 10,
   "id": "bbc38ccc",
   "metadata": {},
   "outputs": [],
   "source": [
    "class SeqGAN_G(LSTMGenerator):\n",
    "    def __init__(self, embedding_dim, hidden_dim, vocab_size, note_size,\n",
    "                 duration_size, rest_size, max_seq_len, pad_id_lyr,\n",
    "                 pad_id_note, pad_id_dur, pad_id_rest, gpu=False):\n",
    "        super(SeqGAN_G, self).__init__(embedding_dim, hidden_dim, vocab_size, note_size,\n",
    "                                       duration_size, rest_size, max_seq_len, pad_id_lyr,\n",
    "                                       pad_id_note, pad_id_dur, pad_id_rest, gpu)\n",
    "        self.name = 'seqgan'\n",
    "\n",
    "    def batchPGLoss(self, inp, mel, target, reward):\n",
    "        \"\"\"\n",
    "        Returns a policy gradient loss\n",
    "        :param inp: batch_size x seq_len, inp should be target with <s> (start letter) prepended\n",
    "        :param target: batch_size x seq_len\n",
    "        :param reward: batch_size (discriminator reward for each sentence, applied to each token of the corresponding sentence)\n",
    "        :return loss: policy loss\n",
    "        \"\"\"\n",
    "\n",
    "        batch_size, seq_len = inp.size()\n",
    "        hidden = self.init_hidden(batch_size)\n",
    "\n",
    "        out = self.forward(inp, mel, hidden).view(batch_size, self.max_seq_len, self.vocab_size)\n",
    "        target_onehot = F.one_hot(target, self.vocab_size).float()  # batch_size * seq_len * vocab_size\n",
    "        pred = torch.sum(out * target_onehot, dim=-1)  # batch_size * seq_len\n",
    "        loss = -torch.sum(pred * reward)\n",
    "\n",
    "        return loss"
   ]
  },
  {
   "cell_type": "code",
   "execution_count": 11,
   "id": "d2136bae",
   "metadata": {},
   "outputs": [],
   "source": [
    "class CNNDiscriminator(nn.Module):\n",
    "    def __init__(self, embed_dim, vocab_size, filter_sizes, num_filters, padding_idx, gpu=False,\n",
    "                 dropout=0.2):\n",
    "        super(CNNDiscriminator, self).__init__()\n",
    "        self.embedding_dim = embed_dim\n",
    "        self.vocab_size = vocab_size\n",
    "        self.padding_idx = padding_idx\n",
    "        self.feature_dim = sum(num_filters)\n",
    "        self.gpu = gpu\n",
    "\n",
    "        self.embeddings = nn.Embedding(vocab_size, embed_dim, padding_idx=padding_idx)\n",
    "        self.convs = nn.ModuleList([\n",
    "            nn.Conv2d(1, n, (f, embed_dim)) for (n, f) in zip(num_filters, filter_sizes)\n",
    "        ])\n",
    "        self.highway = nn.Linear(self.feature_dim, self.feature_dim)\n",
    "        self.feature2out = nn.Linear(self.feature_dim, 2)\n",
    "        self.dropout = nn.Dropout(dropout)\n",
    "\n",
    "        self.init_params()\n",
    "\n",
    "    def forward(self, inp):\n",
    "        \"\"\"\n",
    "        Get final predictions of discriminator\n",
    "        :param inp: batch_size * seq_len\n",
    "        :return: pred: batch_size * 2\n",
    "        \"\"\"\n",
    "        feature = self.get_feature(inp)\n",
    "        pred = self.feature2out(self.dropout(feature))\n",
    "\n",
    "        return pred\n",
    "\n",
    "    def get_feature(self, inp):\n",
    "        \"\"\"\n",
    "        Get feature vector of given sentences\n",
    "        :param inp: batch_size * max_seq_len\n",
    "        :return: batch_size * feature_dim\n",
    "        \"\"\"\n",
    "        emb = self.embeddings(inp).unsqueeze(1)  # batch_size * 1 * max_seq_len * embed_dim\n",
    "        convs = [F.relu(conv(emb)).squeeze(3) for conv in self.convs]  # [batch_size * num_filter * length]\n",
    "        pools = [F.max_pool1d(conv, conv.size(2)).squeeze(2) for conv in convs]  # [batch_size * num_filter]\n",
    "        pred = torch.cat(pools, 1)  # tensor: batch_size * feature_dim\n",
    "        highway = self.highway(pred)\n",
    "        pred = torch.sigmoid(highway) * F.relu(highway) + (1. - torch.sigmoid(highway)) * pred  # highway\n",
    "\n",
    "        return pred\n",
    "\n",
    "    def init_params(self):\n",
    "        for param in self.parameters():\n",
    "            if param.requires_grad and len(param.shape) > 0:\n",
    "                stddev = 1 / math.sqrt(param.shape[0])\n",
    "                truncated_normal_(param, std=stddev)"
   ]
  },
  {
   "cell_type": "code",
   "execution_count": 12,
   "id": "10040e38",
   "metadata": {},
   "outputs": [],
   "source": [
    "class SeqGAN_D(CNNDiscriminator):\n",
    "    def __init__(self, embed_dim, vocab_size, padding_idx, dis_filter_sizes,\n",
    "                 dis_num_filters, gpu=False, dropout=0.25):\n",
    "        super(SeqGAN_D, self).__init__(embed_dim, vocab_size, dis_filter_sizes,\n",
    "                                       dis_num_filters, padding_idx, gpu, dropout)"
   ]
  },
  {
   "cell_type": "code",
   "execution_count": 13,
   "id": "fe3318d5",
   "metadata": {},
   "outputs": [],
   "source": [
    "class GANDataset(Dataset):\n",
    "    def __init__(self, data):\n",
    "        self.data = data\n",
    "\n",
    "    def __getitem__(self, index):\n",
    "        return self.data[index]\n",
    "\n",
    "    def __len__(self):\n",
    "        return len(self.data)"
   ]
  },
  {
   "cell_type": "code",
   "execution_count": 14,
   "id": "8dabc2ac",
   "metadata": {},
   "outputs": [],
   "source": [
    "class GenDataIter:\n",
    "    def __init__(self, samples, melodies, batch_size, max_seq_len, start_letter=1, shuffle=True):\n",
    "        self.batch_size = batch_size\n",
    "        self.max_seq_len = max_seq_len\n",
    "        self.start_letter = start_letter\n",
    "\n",
    "        self.loader = DataLoader(\n",
    "            dataset=GANDataset(self.__read_data__(samples, melodies)),\n",
    "            batch_size=self.batch_size,\n",
    "            shuffle=shuffle,\n",
    "            drop_last=True)\n",
    "\n",
    "        self.input = self._all_data_('lyric')\n",
    "        self.melody = self._all_data_('melody')\n",
    "        self.target = self._all_data_('target')\n",
    "\n",
    "    def __read_data__(self, samples, melodies):\n",
    "        \"\"\"\n",
    "        input: same as target, but start with start_letter.\n",
    "        \"\"\"\n",
    "        # global all_data\n",
    "        inp, target = self.prepare(samples, melodies, self.start_letter)\n",
    "        lyr, mel = inp\n",
    "        all_data = [{'lyric': l, 'melody': m, 'target': t} for (l, m, t) in zip(lyr, mel, target)]\n",
    "        return all_data\n",
    "\n",
    "    def random_batch(self):\n",
    "        \"\"\"Randomly choose a batch from loader, please note that the data should not be shuffled.\"\"\"\n",
    "        idx = random.randint(0, len(self.loader) - 1)\n",
    "        return list(self.loader)[idx]\n",
    "\n",
    "    def _all_data_(self, col):\n",
    "        return torch.cat([data[col].unsqueeze(0) for data in self.loader.dataset.data], 0)\n",
    "\n",
    "    @staticmethod\n",
    "    def prepare(samples, melodies, start_id, gpu=False):\n",
    "        \"\"\"Add start_letter to samples as inp, target same as samples\"\"\"\n",
    "        inp = torch.zeros(samples.size()).long()\n",
    "        target = samples\n",
    "        inp[:, 0] = start_id\n",
    "        inp[:, 1:] = target[:, :max_seq_len - 1]\n",
    "\n",
    "        if gpu:\n",
    "            return (inp.cuda(), melodies.cuda()), target.cuda()\n",
    "        return (inp, melodies), target"
   ]
  },
  {
   "cell_type": "code",
   "execution_count": 15,
   "id": "3407e119",
   "metadata": {},
   "outputs": [],
   "source": [
    "def optimize(opt, loss, model=None, retain_graph=False):\n",
    "    opt.zero_grad()\n",
    "    loss.backward(retain_graph=retain_graph)\n",
    "    if model is not None:\n",
    "        torch.nn.utils.clip_grad_norm_(model.parameters(), clip_norm)\n",
    "    opt.step()"
   ]
  },
  {
   "cell_type": "code",
   "execution_count": 16,
   "id": "ee3f04ce",
   "metadata": {},
   "outputs": [],
   "source": [
    "def train_gen_epoch(model, data_loader, criterion, optimizer, cuda=True):\n",
    "    total_loss = 0\n",
    "    for data in data_loader:\n",
    "        lyr, mel, target = data['lyric'], data['melody'], data['target']\n",
    "        if cuda:\n",
    "            lyr, mel, target = lyr.cuda(), mel.cuda(), target.cuda()\n",
    "\n",
    "        hidden = model.init_hidden(data_loader.batch_size)\n",
    "        pred = model.forward(lyr, mel, hidden)\n",
    "        loss = criterion(pred, target.view(-1))\n",
    "        optimize(optimizer, loss, model)\n",
    "        total_loss += loss.item()\n",
    "    return total_loss / len(data_loader)"
   ]
  },
  {
   "cell_type": "markdown",
   "id": "174df685",
   "metadata": {},
   "source": [
    "## Pretraining"
   ]
  },
  {
   "cell_type": "code",
   "execution_count": 17,
   "id": "ea679627",
   "metadata": {},
   "outputs": [],
   "source": [
    "def pretrain_generator(gen, gen_opt, data_loader, criterion, epochs):\n",
    "    \"\"\"\n",
    "    Max Likelihood Pre-training for the generator\n",
    "    \"\"\"\n",
    "    losses = []\n",
    "    progress = tqdm(range(epochs))\n",
    "    for epoch in progress:\n",
    "        pre_loss = train_gen_epoch(gen, data_loader, criterion, gen_opt)\n",
    "        losses.append(pre_loss)\n",
    "        progress.set_description(\"EPOCH: {}, LOSS: {}\".format(epoch, pre_loss))\n",
    "    return losses, gen"
   ]
  },
  {
   "cell_type": "code",
   "execution_count": 18,
   "id": "32de5593",
   "metadata": {},
   "outputs": [
    {
     "data": {
      "text/plain": [
       "(torch.Size([1600, 202, 3]), torch.Size([1600, 202]))"
      ]
     },
     "execution_count": 18,
     "metadata": {},
     "output_type": "execute_result"
    }
   ],
   "source": [
    "sequences_lyrics_train = torch.LongTensor(train_lyrics)\n",
    "sequences_notes_train = torch.LongTensor(train_notes)\n",
    "sequences_durations_train = torch.LongTensor(train_durations)\n",
    "sequences_rests_train = torch.LongTensor(train_rests)\n",
    "\n",
    "sequences_notes_train = sequences_notes_train.unsqueeze(2)\n",
    "sequences_durations_train = sequences_durations_train.unsqueeze(2)\n",
    "sequences_rests_train = sequences_rests_train.unsqueeze(2)\n",
    "\n",
    "train_melodies = torch.cat([sequences_notes_train, sequences_durations_train, sequences_rests_train], dim=2)\n",
    "\n",
    "gen_data_iter = GenDataIter(sequences_lyrics_train, train_melodies, batch_size, max_seq_len, start_letter=start_id_lyr)\n",
    "\n",
    "train_melodies.shape, sequences_lyrics_train.shape"
   ]
  },
  {
   "cell_type": "code",
   "execution_count": 20,
   "id": "519fbb6b",
   "metadata": {},
   "outputs": [],
   "source": [
    "gen = SeqGAN_G(g_embed_dim, g_hidden, vocab_size, notes_size, durations_size, rests_size,\n",
    "               max_seq_len, pad_id_lyr, pad_id_note, pad_id_duration, pad_id_rest, True).cuda()\n",
    "\n",
    "gen_opt = optim.Adam(gen.parameters(), lr=g_lr_pretrain)\n",
    "gen_adv_opt = optim.Adam(gen.parameters(), lr=g_lr_adv)\n",
    "mle_criterion = nn.NLLLoss().cuda()"
   ]
  },
  {
   "cell_type": "code",
   "execution_count": 64,
   "id": "dd3cf2ac",
   "metadata": {},
   "outputs": [
    {
     "data": {
      "text/plain": [
       "NLLLoss()"
      ]
     },
     "execution_count": 64,
     "metadata": {},
     "output_type": "execute_result"
    }
   ],
   "source": [
    "mle_criterion"
   ]
  },
  {
   "cell_type": "code",
   "execution_count": 21,
   "id": "69c1f66d",
   "metadata": {
    "scrolled": true
   },
   "outputs": [
    {
     "name": "stderr",
     "output_type": "stream",
     "text": [
      "EPOCH: 149, LOSS: 3.4813875436782835: 100%|██████████| 150/150 [02:34<00:00,  1.03s/it]\n"
     ]
    }
   ],
   "source": [
    "losses_pretrain, model = pretrain_generator(gen, gen_opt, gen_data_iter.loader, mle_criterion, pretrain_epochs_gen)"
   ]
  },
  {
   "cell_type": "code",
   "execution_count": 22,
   "id": "c975407e",
   "metadata": {
    "scrolled": true
   },
   "outputs": [
    {
     "data": {
      "text/plain": [
       "SeqGAN_G(\n",
       "  (embeddings_lyr): Embedding(10000, 32, padding_idx=23)\n",
       "  (embeddings_note): Embedding(100, 32, padding_idx=55)\n",
       "  (embeddings_dur): Embedding(999, 32, padding_idx=20)\n",
       "  (embeddings_rest): Embedding(3183, 32, padding_idx=33)\n",
       "  (lstm): LSTM(128, 32, batch_first=True)\n",
       "  (lstm2out): Linear(in_features=32, out_features=10000, bias=True)\n",
       "  (softmax): LogSoftmax(dim=-1)\n",
       ")"
      ]
     },
     "execution_count": 22,
     "metadata": {},
     "output_type": "execute_result"
    }
   ],
   "source": [
    "model"
   ]
  },
  {
   "cell_type": "code",
   "execution_count": 22,
   "id": "aa110b98",
   "metadata": {},
   "outputs": [],
   "source": [
    "torch.save(model,'model_version2.pt')"
   ]
  },
  {
   "cell_type": "code",
   "execution_count": 57,
   "id": "e0be8334",
   "metadata": {},
   "outputs": [
    {
     "data": {
      "text/plain": [
       "SeqGAN_G(\n",
       "  (embeddings_lyr): Embedding(10000, 32, padding_idx=23)\n",
       "  (embeddings_note): Embedding(100, 32, padding_idx=55)\n",
       "  (embeddings_dur): Embedding(999, 32, padding_idx=20)\n",
       "  (embeddings_rest): Embedding(3183, 32, padding_idx=33)\n",
       "  (lstm): LSTM(128, 32, batch_first=True)\n",
       "  (lstm2out): Linear(in_features=32, out_features=10000, bias=True)\n",
       "  (softmax): LogSoftmax(dim=-1)\n",
       ")"
      ]
     },
     "execution_count": 57,
     "metadata": {},
     "output_type": "execute_result"
    }
   ],
   "source": [
    "##################################\n",
    "g = torch.load('model_version1.pt')\n",
    "g"
   ]
  },
  {
   "cell_type": "code",
   "execution_count": 31,
   "id": "3f3e3633",
   "metadata": {},
   "outputs": [
    {
     "name": "stdout",
     "output_type": "stream",
     "text": [
      "Parameter containing:\n",
      "tensor([[-5.9218e-03,  1.3934e-02,  7.4154e-03,  ...,  1.0147e-02,\n",
      "         -1.9841e-04, -3.3769e-03],\n",
      "        [ 4.9049e-01, -3.3754e-02,  8.1550e-03,  ...,  1.6835e+00,\n",
      "          6.4918e-02, -5.0949e-01],\n",
      "        [-1.2724e+00, -8.8861e-01,  1.2629e+00,  ...,  3.2086e+00,\n",
      "          9.0258e-01,  6.9196e-01],\n",
      "        ...,\n",
      "        [ 2.3715e+00,  2.4337e-01, -8.2557e-01,  ..., -9.5137e-01,\n",
      "         -4.8735e-01, -2.0917e+00],\n",
      "        [ 2.4809e-02, -1.0312e+00,  2.1266e-01,  ..., -6.2788e-01,\n",
      "         -8.1744e-01,  2.6475e+00],\n",
      "        [-4.6585e-01, -1.6732e+00, -1.8177e+00,  ..., -1.0722e+00,\n",
      "         -1.3848e+00, -8.4122e-01]], device='cuda:0', requires_grad=True)\n",
      "Parameter containing:\n",
      "tensor([[ 0.1190,  0.0102,  0.0636,  ..., -0.0101, -0.1760,  0.1473],\n",
      "        [ 0.1958,  0.5849, -0.6788,  ...,  0.4243,  0.1590,  0.0947],\n",
      "        [-0.5535,  0.2482, -0.9394,  ...,  0.0989, -0.1428, -0.4852],\n",
      "        ...,\n",
      "        [ 0.7463,  3.4836,  0.5530,  ..., -3.4136, -2.0195, -2.0499],\n",
      "        [-0.8655,  3.5456, -2.0976,  ..., -0.2337, -3.3891,  0.5747],\n",
      "        [-2.5560,  0.7809, -0.4911,  ...,  1.7431,  1.8864, -1.4192]],\n",
      "       device='cuda:0', requires_grad=True)\n",
      "Parameter containing:\n",
      "tensor([[ 0.0411, -0.0051,  0.0146,  ...,  0.0286, -0.0109, -0.0115],\n",
      "        [ 0.0110,  0.0178, -1.4079,  ..., -0.1230,  0.1467,  0.3781],\n",
      "        [ 0.0689,  0.0528, -1.5258,  ..., -0.1493,  0.0386,  0.4687],\n",
      "        ...,\n",
      "        [-1.8823, -1.6620,  0.2400,  ..., -0.2724, -1.5469,  0.4099],\n",
      "        [-0.5195, -0.9260, -1.0573,  ..., -0.3531, -0.4309,  0.7469],\n",
      "        [-0.7642,  2.1588,  3.2766,  ..., -0.6906, -2.8233,  0.3757]],\n",
      "       device='cuda:0', requires_grad=True)\n",
      "Parameter containing:\n",
      "tensor([[ 3.4289e-02,  1.3837e-02, -3.5733e-03,  ...,  7.3728e-04,\n",
      "         -2.9153e-02,  3.4681e-02],\n",
      "        [ 1.1091e-02, -1.5245e-01, -2.1080e-01,  ...,  6.0300e-02,\n",
      "          4.2188e-02, -1.5471e-01],\n",
      "        [ 1.5214e-01,  2.0049e-02, -7.7968e-02,  ..., -1.5304e-01,\n",
      "          3.3411e-02,  2.5499e-02],\n",
      "        ...,\n",
      "        [-4.7686e-01,  1.7399e+00,  5.3631e-02,  ..., -2.7000e-01,\n",
      "         -1.8570e+00,  1.1991e+00],\n",
      "        [-8.4648e-01, -1.2263e+00,  5.6771e-01,  ...,  1.2067e+00,\n",
      "          6.2135e-01,  5.4810e-01],\n",
      "        [ 2.2422e+00,  7.5010e-01,  1.8665e+00,  ...,  2.1634e+00,\n",
      "          1.0666e-01, -1.4911e+00]], device='cuda:0', requires_grad=True)\n",
      "Parameter containing:\n",
      "tensor([[-1.6759,  2.6923, -1.5704,  ..., -1.8006, -1.7106, -1.6701],\n",
      "        [ 0.0963, -0.2352, -1.2900,  ...,  0.0636, -0.1346, -0.1838],\n",
      "        [-0.2111,  0.4398,  1.0792,  ...,  1.1795,  3.3864, -2.0493],\n",
      "        ...,\n",
      "        [ 1.0846, -2.3266,  0.9766,  ...,  0.5892, -1.1612,  1.0874],\n",
      "        [-3.2243, -0.4493, -3.7370,  ..., -0.9634, -0.9700,  0.7923],\n",
      "        [-3.4698, -2.5443, -0.3081,  ..., -1.1598,  0.9766,  1.7961]],\n",
      "       device='cuda:0', requires_grad=True)\n",
      "Parameter containing:\n",
      "tensor([[ 0.7930, -2.1968,  0.5185,  ...,  1.1882, -0.2954, -0.0155],\n",
      "        [ 0.0077, -0.7647,  0.1975,  ..., -1.1239,  1.8733,  0.1914],\n",
      "        [ 0.8680,  0.4473,  0.9377,  ..., -1.6546,  1.3461,  0.2260],\n",
      "        ...,\n",
      "        [-2.1407, -2.7604,  2.9839,  ...,  0.5727, -4.9601, -1.4977],\n",
      "        [-5.8882, -3.5172,  1.8692,  ...,  0.5964, -6.1277, -1.6808],\n",
      "        [-4.6978,  0.5294,  3.4806,  ...,  1.4224,  0.0491, -2.8724]],\n",
      "       device='cuda:0', requires_grad=True)\n",
      "Parameter containing:\n",
      "tensor([ 0.1906,  0.1813,  0.2951, -0.0235,  0.4049,  0.1686, -0.0437,  0.0602,\n",
      "         0.2227,  0.1186,  0.1722,  0.4060,  0.1080,  0.3423,  0.7741,  0.2227,\n",
      "         0.1019,  0.1243,  0.0377, -0.0837,  0.0150,  0.1815,  0.3986,  0.0902,\n",
      "         0.0471,  0.0992,  0.0617,  0.0405, -0.0111,  0.0032,  0.1882,  0.3434,\n",
      "         0.6072,  0.3398,  0.7992,  0.3012, -0.3507,  0.6348, -0.2001,  0.0937,\n",
      "         0.4044,  0.2969,  0.3720,  0.3186,  0.2264,  0.2508,  0.2495,  0.3123,\n",
      "         0.2728,  0.1475,  0.7461,  0.4758,  0.3592,  0.5014,  0.3786,  0.2829,\n",
      "         0.8739,  0.7114,  0.5894,  1.0416,  0.4186,  0.5626,  1.0401,  0.1927,\n",
      "        -0.3304, -0.3256,  0.1969, -0.3552, -0.2079, -0.1837,  0.2742, -0.1684,\n",
      "         0.2011,  0.1699,  0.2445,  0.3586,  0.1067, -0.3435,  0.3326,  0.2168,\n",
      "        -0.2807,  0.2197, -0.2662, -0.1641,  0.3417, -0.1619, -0.4619,  0.2077,\n",
      "        -0.2573,  0.3128,  0.1911,  0.6622, -0.3369,  0.2394, -0.1969, -0.3930,\n",
      "         0.2243,  0.1304,  0.0083, -0.6804, -0.6390,  0.2198, -0.1977, -0.3288,\n",
      "         0.1639,  0.1194, -0.0531,  0.2040, -0.1252, -0.0377,  0.6950, -0.1116,\n",
      "        -0.1377, -0.2687,  0.2573, -0.9671,  0.0180, -0.0369,  0.5860, -0.3702,\n",
      "         0.2790,  0.2444, -0.0462, -0.3052,  0.3400,  0.0761, -0.3449, -0.2448],\n",
      "       device='cuda:0', requires_grad=True)\n",
      "Parameter containing:\n",
      "tensor([ 1.3720e-01,  8.7335e-02,  2.5391e-01, -6.8213e-02,  3.6579e-01,\n",
      "         2.0805e-01,  2.0715e-02, -1.5595e-01,  2.5510e-01,  8.9959e-03,\n",
      "         1.2024e-01,  3.4352e-01,  8.0198e-02,  5.3566e-01,  7.0040e-01,\n",
      "         3.1250e-01,  3.9659e-02,  9.5645e-02,  1.0668e-01, -3.6071e-04,\n",
      "         1.6869e-01, -5.9797e-02,  3.7294e-01,  9.3111e-02,  6.8634e-02,\n",
      "        -1.1773e-01,  2.1275e-01,  1.0845e-01,  2.9541e-02,  2.2096e-01,\n",
      "         2.8788e-01,  3.7296e-01,  5.8524e-01,  3.2587e-01,  7.0789e-01,\n",
      "         3.6887e-01, -2.0503e-01,  4.2884e-01, -1.9290e-01,  1.6608e-01,\n",
      "         4.3973e-01,  2.5428e-01,  2.3489e-01,  5.5257e-01,  3.2715e-01,\n",
      "         2.9132e-01,  2.3978e-01,  1.5293e-01,  3.5811e-01,  3.8695e-01,\n",
      "         4.5462e-01,  4.1467e-01,  2.5562e-01,  4.0973e-01,  1.5794e-01,\n",
      "         3.4427e-01,  7.9994e-01,  6.4615e-01,  5.0631e-01,  1.1098e+00,\n",
      "         4.8970e-01,  5.0107e-01,  1.0273e+00,  4.0307e-01, -2.3086e-01,\n",
      "        -1.3363e-01,  1.6752e-01, -3.8939e-01, -2.4042e-01, -3.4279e-01,\n",
      "         1.9467e-01, -3.5763e-01,  3.2866e-01,  2.8559e-01,  1.3697e-01,\n",
      "         2.1137e-01,  2.9131e-01, -3.6907e-01,  4.4936e-01,  2.6346e-01,\n",
      "        -2.1360e-01,  2.9967e-01, -1.9212e-01, -4.0256e-01,  2.8623e-01,\n",
      "        -2.6053e-01, -4.7518e-01,  3.3212e-01, -3.5577e-01,  6.4912e-02,\n",
      "         1.9792e-01,  6.5375e-01, -2.4530e-01,  1.9543e-01, -1.8659e-01,\n",
      "        -3.5919e-01,  2.5144e-01,  3.4094e-01,  5.3489e-02, -5.9613e-01,\n",
      "        -4.9301e-01,  1.8444e-01, -1.9246e-01, -2.2734e-01,  3.5731e-01,\n",
      "        -1.0501e-01, -1.0993e-01,  3.3867e-01, -2.1868e-02,  9.5515e-02,\n",
      "         7.5921e-01,  7.8901e-02, -1.9471e-01, -2.3451e-01,  2.6631e-01,\n",
      "        -1.2308e+00,  1.9532e-01,  5.2819e-02,  4.6736e-01, -3.7892e-01,\n",
      "         3.9886e-01,  4.9679e-01, -9.2174e-02, -2.0452e-01,  3.3001e-01,\n",
      "         1.8418e-01, -3.0333e-01, -5.3149e-01], device='cuda:0',\n",
      "       requires_grad=True)\n",
      "Parameter containing:\n",
      "tensor([[ 1.3977,  0.6495, -0.5242,  ..., -0.4061,  0.5292,  0.6873],\n",
      "        [ 0.0180,  0.1854, -0.9047,  ..., -1.1345, -0.1946, -0.6324],\n",
      "        [ 1.1581, -1.2751,  0.4278,  ...,  0.6879,  0.3074, -1.1654],\n",
      "        ...,\n",
      "        [-1.3155,  0.1310, -1.2824,  ..., -0.4290, -2.0152, -0.6014],\n",
      "        [ 2.0944,  0.6952, -0.2631,  ..., -0.4563,  2.7649, -1.0340],\n",
      "        [-2.1841,  1.9268, -1.5055,  ..., -0.7102,  2.1206, -2.0644]],\n",
      "       device='cuda:0', requires_grad=True)\n",
      "Parameter containing:\n",
      "tensor([-0.5051,  1.6518,  1.0519,  ..., -0.0857,  0.1025,  0.1598],\n",
      "       device='cuda:0', requires_grad=True)\n"
     ]
    }
   ],
   "source": [
    "##################################\n",
    "for param in g.parameters():\n",
    "    print(param)"
   ]
  },
  {
   "cell_type": "code",
   "execution_count": 23,
   "id": "e0f26f08",
   "metadata": {},
   "outputs": [
    {
     "data": {
      "image/png": "[encoded data removed]",
      "text/plain": [
       "<Figure size 640x480 with 1 Axes>"
      ]
     },
     "metadata": {},
     "output_type": "display_data"
    }
   ],
   "source": [
    "plt.plot(losses_pretrain)\n",
    "plt.xlabel(\"EPOCH\")\n",
    "plt.ylabel(\"LOSS\")\n",
    "plt.title(\"Pretraining Losses Generator\")\n",
    "plt.savefig(\"Pretraining Losses SeqGenerator.png\")\n",
    "plt.show()"
   ]
  },
  {
   "cell_type": "code",
   "execution_count": 61,
   "id": "467d2976",
   "metadata": {},
   "outputs": [
    {
     "data": {
      "text/plain": [
       "3.4813875436782835"
      ]
     },
     "execution_count": 61,
     "metadata": {},
     "output_type": "execute_result"
    }
   ],
   "source": [
    "losses_pretrain[-1]"
   ]
  },
  {
   "cell_type": "markdown",
   "id": "389f79a6",
   "metadata": {},
   "source": [
    "## Adversarial Training"
   ]
  },
  {
   "cell_type": "code",
   "execution_count": 24,
   "id": "1f2c4012",
   "metadata": {},
   "outputs": [],
   "source": [
    "class ROLLOUT:\n",
    "    def __init__(self, gen, gpu=True):\n",
    "        self.gen = gen\n",
    "        self.old_model = copy.deepcopy(gen)\n",
    "        self.max_seq_len = gen.max_seq_len\n",
    "        self.vocab_size = gen.vocab_size\n",
    "        self.gpu = gpu\n",
    "\n",
    "    def rollout_mc_search(self, sentences, melodies, given_num):\n",
    "        \"\"\"\n",
    "        fill up remain tokens with MC search\n",
    "        :param sentences: size of batch_size * max_seq_len\n",
    "        :param given_num:\n",
    "        :return:\n",
    "        \"\"\"\n",
    "        batch_size = sentences.size(0)\n",
    "\n",
    "        # get current state\n",
    "        hidden = self.gen.init_hidden(batch_size)\n",
    "        # for i in range(given_num):\n",
    "        inp = sentences[:, :given_num]\n",
    "        mel = melodies[:, :given_num, :]\n",
    "        out, hidden = self.gen.forward(inp, mel, hidden, need_hidden=True)\n",
    "        out = out.view(batch_size, -1, self.vocab_size)[:, -1]\n",
    "\n",
    "        samples = torch.zeros(batch_size, self.max_seq_len).long()\n",
    "        samples[:, :given_num] = sentences[:, :given_num]\n",
    "\n",
    "        if self.gpu:\n",
    "            samples = samples.cuda()\n",
    "\n",
    "        # MC search\n",
    "        for i in range(given_num, self.max_seq_len):\n",
    "            out = torch.multinomial(torch.exp(out), 1)\n",
    "            samples[:, i] = out.view(-1).data\n",
    "            inp = out.view(-1)\n",
    "            mel = melodies[:, i, :]\n",
    "            mel = torch.squeeze(mel, dim=1)\n",
    "\n",
    "            out, hidden = self.gen.forward(inp, mel, hidden, need_hidden=True)\n",
    "\n",
    "        return samples\n",
    "\n",
    "    def get_reward(self, sentences, melodies, rollout_num, dis, current_k=0):\n",
    "        \"\"\"\n",
    "        get reward via Monte Carlo search\n",
    "        :param sentences: size of batch_size * max_seq_len\n",
    "        :param rollout_num:\n",
    "        :param dis:\n",
    "        :param current_k: current training gen\n",
    "        :return: reward: [batch_size]\n",
    "        \"\"\"\n",
    "        with torch.no_grad():\n",
    "            batch_size = sentences.size(0)\n",
    "            rewards = torch.zeros([rollout_num * self.max_seq_len, batch_size]).float()\n",
    "            if self.gpu:\n",
    "                rewards = rewards.cuda()\n",
    "            idx = 0\n",
    "            for i in range(rollout_num):\n",
    "                for given_num in range(1, self.max_seq_len + 1):\n",
    "                    samples = self.rollout_mc_search(sentences, melodies, given_num)\n",
    "                    out = dis.forward(samples)\n",
    "                    out = F.softmax(out, dim=-1)\n",
    "                    reward = out[:, current_k + 1]\n",
    "                    rewards[idx] = reward\n",
    "                    idx += 1\n",
    "\n",
    "        # rewards = torch.mean(rewards, dim=0)\n",
    "        rewards = torch.mean(rewards.view(batch_size, self.max_seq_len, rollout_num), dim=-1)\n",
    "        return rewards"
   ]
  },
  {
   "cell_type": "code",
   "execution_count": 25,
   "id": "ff5b43a2",
   "metadata": {},
   "outputs": [],
   "source": [
    "def remove_start_and_end(lyrics):\n",
    "    clean_lyrics = []\n",
    "    for lyric in lyrics:\n",
    "        removal_list = [\"BOS\",\"EOS\", \"eos\", \"bos\"]\n",
    "        lyric_list = lyric.split()\n",
    "        final_list = [word for word in lyric_list if word not in removal_list]\n",
    "        final_string = ' '.join(final_list)\n",
    "        clean_lyrics.append(final_string)\n",
    "\n",
    "    return clean_lyrics"
   ]
  },
  {
   "cell_type": "code",
   "execution_count": 26,
   "id": "85c7e669",
   "metadata": {},
   "outputs": [],
   "source": [
    "class DisDataIter:\n",
    "    def __init__(self, pos_samples, neg_samples):\n",
    "        self.batch_size = 16\n",
    "        self.max_seq_len = 202\n",
    "        self.start_letter = 0\n",
    "\n",
    "        self.loader = DataLoader(\n",
    "            dataset=GANDataset(self.__read_data__(pos_samples, neg_samples)),\n",
    "            batch_size=self.batch_size,\n",
    "            shuffle=True,\n",
    "            drop_last=True)\n",
    "\n",
    "    def __read_data__(self, pos_samples, neg_samples):\n",
    "        \"\"\"\n",
    "        input: same as target, but start with start_letter.\n",
    "        \"\"\"\n",
    "        inp, target = self.prepare(pos_samples, neg_samples)\n",
    "        all_data = [{'input': i, 'target': t} for (i, t) in zip(inp, target)]\n",
    "        return all_data\n",
    "\n",
    "    def random_batch(self):\n",
    "        idx = random.randint(0, len(self.loader) - 1)\n",
    "        return list(self.loader)[idx]\n",
    "\n",
    "    def prepare(self, pos_samples, neg_samples):\n",
    "        \"\"\"Build inp and target\"\"\"\n",
    "        inp = torch.cat((pos_samples, neg_samples), dim=0).long().detach()  # !!!need .detach()\n",
    "        target = torch.ones(inp.size(0)).long()\n",
    "        target[pos_samples.size(0):] = 0\n",
    "\n",
    "        # shuffle\n",
    "        perm = torch.randperm(inp.size(0))\n",
    "        inp = inp[perm].cuda()\n",
    "        target = target[perm].cuda()\n",
    "\n",
    "        return inp, target"
   ]
  },
  {
   "cell_type": "code",
   "execution_count": 27,
   "id": "a90e26d6",
   "metadata": {},
   "outputs": [],
   "source": [
    "dis = SeqGAN_D(d_embed_dim, vocab_size, pad_id_lyr, d_filter_sizes, d_num_filters, gpu=True).cuda()\n",
    "dis_opt = optim.Adam(dis.parameters(), lr=d_lr)\n",
    "dis_criterion = nn.CrossEntropyLoss().cuda()"
   ]
  },
  {
   "cell_type": "code",
   "execution_count": 28,
   "id": "47562ae1",
   "metadata": {},
   "outputs": [],
   "source": [
    "def adv_train_generator(gen, dis, melody, batch_size, rollout_num, gen_adv_opt, start_letter, g_step, cuda=True):\n",
    "    \"\"\"\n",
    "    The gen is trained using policy gradients, using the reward from the discriminator.\n",
    "    Training is done for num_batches batches.\n",
    "    \"\"\"\n",
    "    rollout_func = ROLLOUT(gen, True)\n",
    "    total_g_loss = 0\n",
    "    for step in range(g_step):\n",
    "        (inp, mel), target = GenDataIter.prepare(gen.sample(melody, batch_size, batch_size, start_letter),\n",
    "                                                 melody, start_letter, gpu=True)\n",
    "        if cuda:\n",
    "            inp = inp.cuda()\n",
    "            mel = mel.cuda()\n",
    "            target = target.cuda()\n",
    "\n",
    "        # ===Train===\n",
    "        rewards = rollout_func.get_reward(target, mel, rollout_num, dis)\n",
    "        adv_loss = gen.batchPGLoss(inp, mel, target, rewards)\n",
    "        optimize(gen_adv_opt, adv_loss)\n",
    "        total_g_loss += adv_loss.item()\n",
    "    return total_g_loss"
   ]
  },
  {
   "cell_type": "code",
   "execution_count": 29,
   "id": "beb3c20e",
   "metadata": {},
   "outputs": [],
   "source": [
    "def train_dis_epoch(model, data_loader, criterion, optimizer, CUDA=True):\n",
    "    total_loss = 0\n",
    "    total_acc = 0\n",
    "    total_num = 0\n",
    "    for i, data in enumerate(data_loader):\n",
    "        inp, target = data['input'], data['target']\n",
    "        if CUDA:\n",
    "            inp, target = inp.cuda(),target.cuda()\n",
    "\n",
    "        pred = model.forward(inp)\n",
    "        loss = criterion(pred, target)\n",
    "        optimize(optimizer, loss, model)\n",
    "\n",
    "        total_loss += loss.item()\n",
    "        total_acc += torch.sum((pred.argmax(dim=-1) == target)).item()\n",
    "        total_num += inp.size(0)\n",
    "\n",
    "    total_loss /= len(data_loader)\n",
    "    total_acc /= total_num\n",
    "    return total_loss, total_acc"
   ]
  },
  {
   "cell_type": "code",
   "execution_count": 30,
   "id": "b903025a",
   "metadata": {},
   "outputs": [],
   "source": [
    "def train_discriminator(gen, dis, batch_size, train_data,\n",
    "                        dis_criterion, dis_opt, d_step, d_epoch):\n",
    "    \"\"\"\n",
    "    Training the discriminator on real_data_samples (positive) and generated samples from gen (negative).\n",
    "    Samples are drawn d_step times, and the discriminator is trained for d_epoch d_epoch.\n",
    "    \"\"\"\n",
    "    # prepare loader for validate\n",
    "    global d_loss, train_acc\n",
    "    losses, accs = [], []\n",
    "    for step in range(d_step):\n",
    "        # prepare loader for training\n",
    "        targets = train_data.target\n",
    "        inds = np.arange(targets.shape[0])\n",
    "        rand_inds = np.random.choice(inds, 8 * batch_size)\n",
    "        pos_samples = gen_data_iter.target[rand_inds]\n",
    "        neg_samples = gen.sample(gen_data_iter.melody, 8 * batch_size, batch_size)\n",
    "        dis_data = DisDataIter(pos_samples, neg_samples)\n",
    "        d_losses, train_accs = [], []\n",
    "        for epoch in range(d_epoch):\n",
    "            # ===Train===\n",
    "            d_loss, train_acc = train_dis_epoch(dis, dis_data.loader, dis_criterion, dis_opt)\n",
    "            d_losses.append(d_loss)\n",
    "            train_accs.append(train_acc)\n",
    "\n",
    "        losses.append(np.mean(d_losses))\n",
    "        accs.append(np.mean(train_accs))\n",
    "    return losses, accs"
   ]
  },
  {
   "cell_type": "code",
   "execution_count": 31,
   "id": "768938e6",
   "metadata": {},
   "outputs": [],
   "source": [
    "def adversarial_train(gen, dis, gen_adv_opt, dis_adv_opt, train_data, batch_size,\n",
    "                      dis_criterion, rollout_num, epochs, start_letter=1):\n",
    "    progress = tqdm(range(epochs))\n",
    "    g_losses, d_losses, d_accs = [], [], []\n",
    "    for adv_epoch in progress:\n",
    "        rand_batch = train_data.random_batch()\n",
    "        lyric = rand_batch[\"lyric\"]\n",
    "        melody = rand_batch[\"melody\"]\n",
    "        target = rand_batch[\"target\"]\n",
    "        g_loss = adv_train_generator(gen, dis, melody, batch_size, rollout_num, gen_adv_opt, start_letter, 2)\n",
    "        d_loss, accs = train_discriminator(gen, dis, batch_size, gen_data_iter, dis_criterion, dis_adv_opt, 1, 1)\n",
    "        g_losses.append(g_loss)\n",
    "        d_losses.append(np.mean(d_loss))\n",
    "        d_accs.append(np.mean(accs))\n",
    "        progress.set_description('g_loss: %.4f, d_loss: %.4f, g_acc: %.4f' % (g_loss, np.mean(d_loss), np.mean(accs)))\n",
    "\n",
    "    return g_losses, d_losses, d_accs, gen, dis"
   ]
  },
  {
   "cell_type": "code",
   "execution_count": 33,
   "id": "cdd8ef42",
   "metadata": {},
   "outputs": [],
   "source": [
    "adversarial_epochs=180"
   ]
  },
  {
   "cell_type": "code",
   "execution_count": 34,
   "id": "4c43c501",
   "metadata": {},
   "outputs": [
    {
     "name": "stdout",
     "output_type": "stream",
     "text": [
      "Device: cuda\n",
      "Count of using GPUs: 2\n",
      "Current cuda device: 0\n"
     ]
    }
   ],
   "source": [
    "import os\n",
    "import torch\n",
    "import torch.nn as nn\n",
    "\n",
    "os.environ[\"CUDA_DEVICE_ORDER\"]=\"PCI_BUS_ID\"\n",
    "os.environ[\"CUDA_VISIBLE_DEVICES\"]= \"0,1\"\n",
    "\n",
    "device = torch.device(\"cuda\" if torch.cuda.is_available() else \"cpu\")\n",
    "\n",
    "print('Device:', device)  # 출력결과: cuda \n",
    "print('Count of using GPUs:', torch.cuda.device_count())   #출력결과: 2 (2, 3 두개 사용하므로)\n",
    "print('Current cuda device:', torch.cuda.current_device())  "
   ]
  },
  {
   "cell_type": "code",
   "execution_count": 72,
   "id": "841461c9",
   "metadata": {},
   "outputs": [
    {
     "name": "stdout",
     "output_type": "stream",
     "text": [
      "Current cuda device: 0\n"
     ]
    }
   ],
   "source": [
    "print('Current cuda device:', torch.cuda.current_device())"
   ]
  },
  {
   "cell_type": "code",
   "execution_count": 26,
   "id": "f3e81ef5",
   "metadata": {},
   "outputs": [],
   "source": [
    "import gc\n",
    "import torch\n",
    "\n",
    "gc.collect()\n",
    "torch.cuda.empty_cache()"
   ]
  },
  {
   "cell_type": "code",
   "execution_count": 65,
   "id": "401b65a1",
   "metadata": {},
   "outputs": [
    {
     "data": {
      "text/plain": [
       "CrossEntropyLoss()"
      ]
     },
     "execution_count": 65,
     "metadata": {},
     "output_type": "execute_result"
    }
   ],
   "source": [
    "dis_criterion"
   ]
  },
  {
   "cell_type": "code",
   "execution_count": 36,
   "id": "a7b16963",
   "metadata": {
    "scrolled": true
   },
   "outputs": [
    {
     "name": "stderr",
     "output_type": "stream",
     "text": [
      "g_loss: 11.1555, d_loss: 0.0006, g_acc: 1.0000: 100%|██████████| 180/180 [15:03:16<00:00, 301.09s/it]    \n"
     ]
    }
   ],
   "source": [
    "g_losses, d_losses, d_accs, genorator, discriminator= adversarial_train(gen,dis, gen_adv_opt, dis_opt,\n",
    "                                               gen_data_iter, 32, dis_criterion,\n",
    "                                               rollout_num, adversarial_epochs, start_id_lyr)"
   ]
  },
  {
   "cell_type": "code",
   "execution_count": 37,
   "id": "5d2f432d",
   "metadata": {},
   "outputs": [],
   "source": [
    "torch.save(genorator,'genorator_version2.pt')\n",
    "torch.save(discriminator,'discriminator_version2.pt')"
   ]
  },
  {
   "cell_type": "code",
   "execution_count": 59,
   "id": "64038efe",
   "metadata": {},
   "outputs": [
    {
     "data": {
      "text/plain": [
       "SeqGAN_D(\n",
       "  (embeddings): Embedding(10000, 64, padding_idx=23)\n",
       "  (convs): ModuleList(\n",
       "    (0): Conv2d(1, 100, kernel_size=(1, 64), stride=(1, 1))\n",
       "    (1): Conv2d(1, 200, kernel_size=(2, 64), stride=(1, 1))\n",
       "    (2): Conv2d(1, 200, kernel_size=(3, 64), stride=(1, 1))\n",
       "    (3): Conv2d(1, 200, kernel_size=(4, 64), stride=(1, 1))\n",
       "    (4): Conv2d(1, 200, kernel_size=(5, 64), stride=(1, 1))\n",
       "    (5): Conv2d(1, 100, kernel_size=(6, 64), stride=(1, 1))\n",
       "    (6): Conv2d(1, 100, kernel_size=(7, 64), stride=(1, 1))\n",
       "    (7): Conv2d(1, 100, kernel_size=(8, 64), stride=(1, 1))\n",
       "    (8): Conv2d(1, 100, kernel_size=(9, 64), stride=(1, 1))\n",
       "    (9): Conv2d(1, 100, kernel_size=(10, 64), stride=(1, 1))\n",
       "    (10): Conv2d(1, 160, kernel_size=(15, 64), stride=(1, 1))\n",
       "    (11): Conv2d(1, 160, kernel_size=(20, 64), stride=(1, 1))\n",
       "  )\n",
       "  (highway): Linear(in_features=1720, out_features=1720, bias=True)\n",
       "  (feature2out): Linear(in_features=1720, out_features=2, bias=True)\n",
       "  (dropout): Dropout(p=0.25, inplace=False)\n",
       ")"
      ]
     },
     "execution_count": 59,
     "metadata": {},
     "output_type": "execute_result"
    }
   ],
   "source": [
    "d = torch.load('discriminator_version2.pt')\n",
    "d"
   ]
  },
  {
   "cell_type": "code",
   "execution_count": 38,
   "id": "35208dcf",
   "metadata": {},
   "outputs": [
    {
     "data": {
      "text/plain": [
       "11.15551233291626"
      ]
     },
     "execution_count": 38,
     "metadata": {},
     "output_type": "execute_result"
    }
   ],
   "source": [
    "g_losses[-1]"
   ]
  },
  {
   "cell_type": "code",
   "execution_count": 39,
   "id": "1e04ea44",
   "metadata": {},
   "outputs": [
    {
     "data": {
      "text/plain": [
       "0.0006387298193430979"
      ]
     },
     "execution_count": 39,
     "metadata": {},
     "output_type": "execute_result"
    }
   ],
   "source": [
    "d_loss"
   ]
  },
  {
   "cell_type": "code",
   "execution_count": 40,
   "id": "4ed7ce79",
   "metadata": {},
   "outputs": [
    {
     "data": {
      "image/png": "[encoded data removed]",
      "text/plain": [
       "<Figure size 640x480 with 1 Axes>"
      ]
     },
     "metadata": {},
     "output_type": "display_data"
    }
   ],
   "source": [
    "plt.plot(g_losses)\n",
    "plt.xlabel(\"EPOCH\")\n",
    "plt.ylabel(\"LOSS\")\n",
    "plt.title(\"Advesarial Losses Generator\")\n",
    "plt.savefig(\"Advesarial Losses SeqGenerator.png\")\n",
    "plt.show()"
   ]
  },
  {
   "cell_type": "code",
   "execution_count": 41,
   "id": "73afba5a",
   "metadata": {},
   "outputs": [
    {
     "data": {
      "image/png": "[encoded data removed]",
      "text/plain": [
       "<Figure size 640x480 with 1 Axes>"
      ]
     },
     "metadata": {},
     "output_type": "display_data"
    }
   ],
   "source": [
    "plt.plot(d_losses)\n",
    "plt.xlabel(\"EPOCH\")\n",
    "plt.ylabel(\"LOSS\")\n",
    "plt.title(\"Advesarial Losses SeqDiscriminator\")\n",
    "plt.savefig(\"Advesarial Losses SeqDiscriminator.png\")\n",
    "plt.show()"
   ]
  },
  {
   "cell_type": "code",
   "execution_count": 42,
   "id": "1bd2a8e8",
   "metadata": {},
   "outputs": [
    {
     "data": {
      "image/png": "[encoded data removed]",
      "text/plain": [
       "<Figure size 640x480 with 1 Axes>"
      ]
     },
     "metadata": {},
     "output_type": "display_data"
    }
   ],
   "source": [
    "plt.plot(d_accs)\n",
    "plt.xlabel(\"EPOCH\")\n",
    "plt.ylabel(\"LOSS\")\n",
    "plt.title(\"Advesarial Accuracies SeqDiscriminator\")\n",
    "plt.savefig(\"Advesarial Accuracies SeqDiscriminator.png\")\n",
    "plt.show()"
   ]
  },
  {
   "cell_type": "markdown",
   "id": "90379f31",
   "metadata": {},
   "source": [
    "## Evaluation"
   ]
  },
  {
   "cell_type": "code",
   "execution_count": 45,
   "id": "2009f6e3",
   "metadata": {},
   "outputs": [
    {
     "data": {
      "text/plain": [
       "torch.Size([80, 202, 3])"
      ]
     },
     "execution_count": 45,
     "metadata": {},
     "output_type": "execute_result"
    }
   ],
   "source": [
    "test_is = np.random.choice(test_inds, 80)\n",
    "\n",
    "test_nos = np.expand_dims(np.array([notes[i] for i in test_is]), axis=2)\n",
    "test_dus = np.expand_dims(np.array([durations[i] for i in test_is]), axis=2)\n",
    "test_res = np.expand_dims(np.array([rests[i] for i in test_is]), axis=2)\n",
    "test_lyr = [lyrics[i] for i in test_is]\n",
    "\n",
    "test_mels = np.concatenate([test_nos, test_dus, test_res], axis=2)\n",
    "test_mels = torch.LongTensor(test_mels)\n",
    "test_mels.shape"
   ]
  },
  {
   "cell_type": "code",
   "execution_count": 47,
   "id": "1a0b6e49",
   "metadata": {},
   "outputs": [],
   "source": [
    "samples = gen.sample(test_mels, 80, 16, start_id_lyr)\n",
    "preds = tokenizer_lyr.sequences_to_texts(samples.numpy())\n",
    "orig = tokenizer_lyr.sequences_to_texts(test_lyr)\n",
    "\n",
    "preds = remove_start_and_end(preds)\n",
    "orig = remove_start_and_end(orig)"
   ]
  },
  {
   "cell_type": "code",
   "execution_count": 48,
   "id": "be146da1",
   "metadata": {
    "scrolled": false
   },
   "outputs": [
    {
     "data": {
      "text/plain": [
       "'올해 여름 햇살 을 왔냐 슬퍼 닥쳐 닥쳐 닥쳐 닥쳐 원해 말 대로 힘들어 도 뛰고 만들었던 거야 넌 됐어 우린 숨 좋은 그날 위 에 박혀 좀 더 편하다고 생각 하지 oov 너 만 못 잊겠어 왜 이렇게 말 해줘 네 가 oov 당신 은 영웅 날 에 어떤 길 있다면 자꾸 태양 처럼 차라리 나를 위 한 my 푸시 아기 주다 푸시 푸시 아기 소녀 남자 나비 딱이야 하나 일 은 그만 잊어요 오늘 만은 워 또 두 개 올라 또 oov 사는 그 때 해도 좀 더 섹시해 우린 화끈한 사랑 해보고 싶어 캔트 ㅏ 그만큼 예쁜 눈물 안녕 그래 섹시한 배 oov 걸었던 방법 그대로 열 힘든 하루 종일 oov 넘쳐 나 에게 oov 많이 여우 이 아니야 나 는 마법 에 아래 에 잠긴 채 그 댈 사랑 하다 나'"
      ]
     },
     "execution_count": 48,
     "metadata": {},
     "output_type": "execute_result"
    }
   ],
   "source": [
    "preds[-1]"
   ]
  },
  {
   "cell_type": "code",
   "execution_count": 49,
   "id": "31f9aabd",
   "metadata": {},
   "outputs": [
    {
     "data": {
      "text/plain": [
       "'또 울 고 oov 이 젠 그만 나를 oov 커다란 그대 사랑 oov 맘 편히 쉴 수 있게 긴 세월 이 흐른 후 그대 좋은 사람 만나서 행복한 모습 볼 수 있도록 나 그 댈 oov 우리 함께 한 많은 날 들 이 너무나 소중해 그래도 웃 을 수 있죠 혼자 인게 oov 땐 그 댈 아프게 한 내 모습 만 떠 울리며 살아요 긴 그대 의 한숨 을 모두 가져갈 수 없다면 차라리 그대 그림자 되어 나 항상 그대 곁 에 우리 함께 한 많은 날 들 이 너무나 소중해 그래도 웃을수 있죠 혼자 인게 oov 땐 그 댈 아프게 한 내 모습 만 기억 해봐요 그대 세상 에 홀로 남겨진 그대 를 잠시 라도 만날 수 있다면 단 하루 라도 oov 가는 그 댈 위해 날 닮은 사람 보내줄께요 그 에게서 날 봐요'"
      ]
     },
     "execution_count": 49,
     "metadata": {},
     "output_type": "execute_result"
    }
   ],
   "source": [
    "orig[-1]"
   ]
  },
  {
   "cell_type": "code",
   "execution_count": 50,
   "id": "fc258a2a",
   "metadata": {},
   "outputs": [
    {
     "data": {
      "text/html": [
       "<div>\n",
       "<style scoped>\n",
       "    .dataframe tbody tr th:only-of-type {\n",
       "        vertical-align: middle;\n",
       "    }\n",
       "\n",
       "    .dataframe tbody tr th {\n",
       "        vertical-align: top;\n",
       "    }\n",
       "\n",
       "    .dataframe thead th {\n",
       "        text-align: right;\n",
       "    }\n",
       "</style>\n",
       "<table border=\"1\" class=\"dataframe\">\n",
       "  <thead>\n",
       "    <tr style=\"text-align: right;\">\n",
       "      <th></th>\n",
       "      <th>origin</th>\n",
       "    </tr>\n",
       "  </thead>\n",
       "  <tbody>\n",
       "    <tr>\n",
       "      <th>0</th>\n",
       "      <td>그녀 갖다 나 다 쓴 미친 왜 심장 이 뛰니 넌 아름다워 나 의 여신 oov 응 응...</td>\n",
       "    </tr>\n",
       "    <tr>\n",
       "      <th>1</th>\n",
       "      <td>아 증가 위로 하다 아니다 엉망 주위 에 그만큼 시각 이다 위로 가 따 비명 지금 ...</td>\n",
       "    </tr>\n",
       "    <tr>\n",
       "      <th>2</th>\n",
       "      <td>1 2 오다 에 아르 자형 에 준비 가 된 3 4 하다 그것 나 는 준비 가 된 5...</td>\n",
       "    </tr>\n",
       "    <tr>\n",
       "      <th>3</th>\n",
       "      <td>사랑 한다는 말 나 하나 란 말 내 가 전 부란 말 기억 못 하면 좋겠어 눈부신 날...</td>\n",
       "    </tr>\n",
       "    <tr>\n",
       "      <th>4</th>\n",
       "      <td>해질 무렵 날 끌 oov 발걸음 눈 떠보니 잊은줄 알았던 곳 에 아직도 너 의 대한...</td>\n",
       "    </tr>\n",
       "    <tr>\n",
       "      <th>...</th>\n",
       "      <td>...</td>\n",
       "    </tr>\n",
       "    <tr>\n",
       "      <th>75</th>\n",
       "      <td>내 가 있는 곳 은 어딜 까 꿈꿔 왔던 바로 거 oov 시간 지날수록 왜 이리 쉽게...</td>\n",
       "    </tr>\n",
       "    <tr>\n",
       "      <th>76</th>\n",
       "      <td>헤어지잔 몹쓸 말 죽어도 듣기 싫은 말 끝내 oov 바랬어 눈물 이 흐를 것 만 같...</td>\n",
       "    </tr>\n",
       "    <tr>\n",
       "      <th>77</th>\n",
       "      <td>요즘 널 보는 눈빛 oov 않았니 어쩜 그렇게도 무 뎌 정말 oov 숨기 고 싶지 ...</td>\n",
       "    </tr>\n",
       "    <tr>\n",
       "      <th>78</th>\n",
       "      <td>자꾸 떠올리면 자꾸 oov 혹시 추억 마저 oov 참아야겠지 아껴 oov 니 가 준...</td>\n",
       "    </tr>\n",
       "    <tr>\n",
       "      <th>79</th>\n",
       "      <td>또 울 고 oov 이 젠 그만 나를 oov 커다란 그대 사랑 oov 맘 편히 쉴 수...</td>\n",
       "    </tr>\n",
       "  </tbody>\n",
       "</table>\n",
       "<p>80 rows × 1 columns</p>\n",
       "</div>"
      ],
      "text/plain": [
       "                                               origin\n",
       "0   그녀 갖다 나 다 쓴 미친 왜 심장 이 뛰니 넌 아름다워 나 의 여신 oov 응 응...\n",
       "1   아 증가 위로 하다 아니다 엉망 주위 에 그만큼 시각 이다 위로 가 따 비명 지금 ...\n",
       "2   1 2 오다 에 아르 자형 에 준비 가 된 3 4 하다 그것 나 는 준비 가 된 5...\n",
       "3   사랑 한다는 말 나 하나 란 말 내 가 전 부란 말 기억 못 하면 좋겠어 눈부신 날...\n",
       "4   해질 무렵 날 끌 oov 발걸음 눈 떠보니 잊은줄 알았던 곳 에 아직도 너 의 대한...\n",
       "..                                                ...\n",
       "75  내 가 있는 곳 은 어딜 까 꿈꿔 왔던 바로 거 oov 시간 지날수록 왜 이리 쉽게...\n",
       "76  헤어지잔 몹쓸 말 죽어도 듣기 싫은 말 끝내 oov 바랬어 눈물 이 흐를 것 만 같...\n",
       "77  요즘 널 보는 눈빛 oov 않았니 어쩜 그렇게도 무 뎌 정말 oov 숨기 고 싶지 ...\n",
       "78  자꾸 떠올리면 자꾸 oov 혹시 추억 마저 oov 참아야겠지 아껴 oov 니 가 준...\n",
       "79  또 울 고 oov 이 젠 그만 나를 oov 커다란 그대 사랑 oov 맘 편히 쉴 수...\n",
       "\n",
       "[80 rows x 1 columns]"
      ]
     },
     "execution_count": 50,
     "metadata": {},
     "output_type": "execute_result"
    }
   ],
   "source": [
    "import pandas as pd\n",
    "df = pd.DataFrame(orig,columns = ['origin'])\n",
    "df"
   ]
  },
  {
   "cell_type": "code",
   "execution_count": 51,
   "id": "5c88e182",
   "metadata": {},
   "outputs": [],
   "source": [
    "df1 = pd.DataFrame(preds, columns = ['preds'])"
   ]
  },
  {
   "cell_type": "code",
   "execution_count": 52,
   "id": "c1f1470f",
   "metadata": {
    "scrolled": true
   },
   "outputs": [
    {
     "data": {
      "text/html": [
       "<div>\n",
       "<style scoped>\n",
       "    .dataframe tbody tr th:only-of-type {\n",
       "        vertical-align: middle;\n",
       "    }\n",
       "\n",
       "    .dataframe tbody tr th {\n",
       "        vertical-align: top;\n",
       "    }\n",
       "\n",
       "    .dataframe thead th {\n",
       "        text-align: right;\n",
       "    }\n",
       "</style>\n",
       "<table border=\"1\" class=\"dataframe\">\n",
       "  <thead>\n",
       "    <tr style=\"text-align: right;\">\n",
       "      <th></th>\n",
       "      <th>origin</th>\n",
       "      <th>preds</th>\n",
       "    </tr>\n",
       "  </thead>\n",
       "  <tbody>\n",
       "    <tr>\n",
       "      <th>0</th>\n",
       "      <td>그녀 갖다 나 다 쓴 미친 왜 심장 이 뛰니 넌 아름다워 나 의 여신 oov 응 응...</td>\n",
       "      <td>가고 없어도 내 목소릴 본 적은 달라진것 그냥 은근 뜨 않는 벽 oov 이야 숨 이...</td>\n",
       "    </tr>\n",
       "    <tr>\n",
       "      <th>1</th>\n",
       "      <td>아 증가 위로 하다 아니다 엉망 주위 에 그만큼 시각 이다 위로 가 따 비명 지금 ...</td>\n",
       "      <td>넌 내게 너무나도 못 떠나 버린 가슴 널 보면 곧 흉터 손목 랑 명음 랄랄라 랄 랄...</td>\n",
       "    </tr>\n",
       "    <tr>\n",
       "      <th>2</th>\n",
       "      <td>1 2 오다 에 아르 자형 에 준비 가 된 3 4 하다 그것 나 는 준비 가 된 5...</td>\n",
       "      <td>뭘 해 줘요 oov 좋은 사람 이 밝아오면 보고 파 가을 언덕 추는 응 반짝이는 척...</td>\n",
       "    </tr>\n",
       "    <tr>\n",
       "      <th>3</th>\n",
       "      <td>사랑 한다는 말 나 하나 란 말 내 가 전 부란 말 기억 못 하면 좋겠어 눈부신 날...</td>\n",
       "      <td>마치 감각 은 모른 채 우리 둘 만큼 정신 돼 그때 니 가 떠난 그런 그녀 품 에 ...</td>\n",
       "    </tr>\n",
       "    <tr>\n",
       "      <th>4</th>\n",
       "      <td>해질 무렵 날 끌 oov 발걸음 눈 떠보니 잊은줄 알았던 곳 에 아직도 너 의 대한...</td>\n",
       "      <td>싶었어 차마 갔나요 그 댈 oov 아무리 싫어도 널 데려가는 건 사랑 이 아픈 건지...</td>\n",
       "    </tr>\n",
       "    <tr>\n",
       "      <th>...</th>\n",
       "      <td>...</td>\n",
       "      <td>...</td>\n",
       "    </tr>\n",
       "    <tr>\n",
       "      <th>75</th>\n",
       "      <td>내 가 있는 곳 은 어딜 까 꿈꿔 왔던 바로 거 oov 시간 지날수록 왜 이리 쉽게...</td>\n",
       "      <td>회사 골목 은 하고싶은데 나 처럼 누구 한 너 의 맘 oov oov 역사 있으면 새...</td>\n",
       "    </tr>\n",
       "    <tr>\n",
       "      <th>76</th>\n",
       "      <td>헤어지잔 몹쓸 말 죽어도 듣기 싫은 말 끝내 oov 바랬어 눈물 이 흐를 것 만 같...</td>\n",
       "      <td>안개 피는 시간 들 무엇 참 사랑 만드는 상처 들 나 알다 천장 을 위 한 눈 이 ...</td>\n",
       "    </tr>\n",
       "    <tr>\n",
       "      <th>77</th>\n",
       "      <td>요즘 널 보는 눈빛 oov 않았니 어쩜 그렇게도 무 뎌 정말 oov 숨기 고 싶지 ...</td>\n",
       "      <td>햇살 하나 같이 만취 저 하늘 로 흘러도 믿을 땐 저희 들 나를 보고 싶어도 못 하...</td>\n",
       "    </tr>\n",
       "    <tr>\n",
       "      <th>78</th>\n",
       "      <td>자꾸 떠올리면 자꾸 oov 혹시 추억 마저 oov 참아야겠지 아껴 oov 니 가 준...</td>\n",
       "      <td>작은 가을 나도 다시 돌아올수 아니니까 용기내 긴 하루 점심 엔 너무도 로맨틱 눈물...</td>\n",
       "    </tr>\n",
       "    <tr>\n",
       "      <th>79</th>\n",
       "      <td>또 울 고 oov 이 젠 그만 나를 oov 커다란 그대 사랑 oov 맘 편히 쉴 수...</td>\n",
       "      <td>올해 여름 햇살 을 왔냐 슬퍼 닥쳐 닥쳐 닥쳐 닥쳐 원해 말 대로 힘들어 도 뛰고 ...</td>\n",
       "    </tr>\n",
       "  </tbody>\n",
       "</table>\n",
       "<p>80 rows × 2 columns</p>\n",
       "</div>"
      ],
      "text/plain": [
       "                                               origin  \\\n",
       "0   그녀 갖다 나 다 쓴 미친 왜 심장 이 뛰니 넌 아름다워 나 의 여신 oov 응 응...   \n",
       "1   아 증가 위로 하다 아니다 엉망 주위 에 그만큼 시각 이다 위로 가 따 비명 지금 ...   \n",
       "2   1 2 오다 에 아르 자형 에 준비 가 된 3 4 하다 그것 나 는 준비 가 된 5...   \n",
       "3   사랑 한다는 말 나 하나 란 말 내 가 전 부란 말 기억 못 하면 좋겠어 눈부신 날...   \n",
       "4   해질 무렵 날 끌 oov 발걸음 눈 떠보니 잊은줄 알았던 곳 에 아직도 너 의 대한...   \n",
       "..                                                ...   \n",
       "75  내 가 있는 곳 은 어딜 까 꿈꿔 왔던 바로 거 oov 시간 지날수록 왜 이리 쉽게...   \n",
       "76  헤어지잔 몹쓸 말 죽어도 듣기 싫은 말 끝내 oov 바랬어 눈물 이 흐를 것 만 같...   \n",
       "77  요즘 널 보는 눈빛 oov 않았니 어쩜 그렇게도 무 뎌 정말 oov 숨기 고 싶지 ...   \n",
       "78  자꾸 떠올리면 자꾸 oov 혹시 추억 마저 oov 참아야겠지 아껴 oov 니 가 준...   \n",
       "79  또 울 고 oov 이 젠 그만 나를 oov 커다란 그대 사랑 oov 맘 편히 쉴 수...   \n",
       "\n",
       "                                                preds  \n",
       "0   가고 없어도 내 목소릴 본 적은 달라진것 그냥 은근 뜨 않는 벽 oov 이야 숨 이...  \n",
       "1   넌 내게 너무나도 못 떠나 버린 가슴 널 보면 곧 흉터 손목 랑 명음 랄랄라 랄 랄...  \n",
       "2   뭘 해 줘요 oov 좋은 사람 이 밝아오면 보고 파 가을 언덕 추는 응 반짝이는 척...  \n",
       "3   마치 감각 은 모른 채 우리 둘 만큼 정신 돼 그때 니 가 떠난 그런 그녀 품 에 ...  \n",
       "4   싶었어 차마 갔나요 그 댈 oov 아무리 싫어도 널 데려가는 건 사랑 이 아픈 건지...  \n",
       "..                                                ...  \n",
       "75  회사 골목 은 하고싶은데 나 처럼 누구 한 너 의 맘 oov oov 역사 있으면 새...  \n",
       "76  안개 피는 시간 들 무엇 참 사랑 만드는 상처 들 나 알다 천장 을 위 한 눈 이 ...  \n",
       "77  햇살 하나 같이 만취 저 하늘 로 흘러도 믿을 땐 저희 들 나를 보고 싶어도 못 하...  \n",
       "78  작은 가을 나도 다시 돌아올수 아니니까 용기내 긴 하루 점심 엔 너무도 로맨틱 눈물...  \n",
       "79  올해 여름 햇살 을 왔냐 슬퍼 닥쳐 닥쳐 닥쳐 닥쳐 원해 말 대로 힘들어 도 뛰고 ...  \n",
       "\n",
       "[80 rows x 2 columns]"
      ]
     },
     "execution_count": 52,
     "metadata": {},
     "output_type": "execute_result"
    }
   ],
   "source": [
    "result1 = pd.concat([df,df1],axis=1)\n",
    "result1"
   ]
  },
  {
   "cell_type": "code",
   "execution_count": 53,
   "id": "7b347a81",
   "metadata": {},
   "outputs": [],
   "source": [
    "result1.to_csv('lyric_gen2.csv',encoding='utf8')"
   ]
  },
  {
   "cell_type": "markdown",
   "id": "e54ecd4a",
   "metadata": {},
   "source": [
    "## BLEU Scores"
   ]
  },
  {
   "cell_type": "code",
   "execution_count": 54,
   "id": "9a9c08d8",
   "metadata": {},
   "outputs": [
    {
     "name": "stderr",
     "output_type": "stream",
     "text": [
      "80it [00:45,  1.75it/s]\n"
     ]
    },
    {
     "data": {
      "text/plain": [
       "(0.24565983827343976, 0.14235862397594118, 0.08259027687694447)"
      ]
     },
     "execution_count": 54,
     "metadata": {},
     "output_type": "execute_result"
    }
   ],
   "source": [
    "#new\n",
    "bleus_4, bleus_3, bleus_2 = [], [], []\n",
    "for test_ref, test_pred in tqdm(zip(orig, preds)):\n",
    "    bleu4 = sentence_bleu(test_ref, test_pred, smoothing_function=chencherry.method7)\n",
    "    bleu3 = sentence_bleu(test_ref, test_pred, weights=[1/3, 1/3, 1/3], smoothing_function=chencherry.method7)\n",
    "    bleu2 = sentence_bleu(test_ref, test_pred, weights=[1/2, 1/2], smoothing_function=chencherry.method7)\n",
    "    bleus_4.append(bleu4)\n",
    "    bleus_3.append(bleu3)\n",
    "    bleus_2.append(bleu2)\n",
    "\n",
    "np.mean(bleus_2), np.mean(bleus_3), np.mean(bleus_4)"
   ]
  },
  {
   "cell_type": "code",
   "execution_count": 41,
   "id": "2331eabb",
   "metadata": {
    "scrolled": true
   },
   "outputs": [
    {
     "name": "stderr",
     "output_type": "stream",
     "text": [
      "80it [01:21,  1.02s/it]\n"
     ]
    },
    {
     "data": {
      "text/plain": [
       "(0.22878784251292256, 0.13238166351122055, 0.07665092051960583)"
      ]
     },
     "execution_count": 41,
     "metadata": {},
     "output_type": "execute_result"
    }
   ],
   "source": [
    "bleus_4, bleus_3, bleus_2 = [], [], []\n",
    "for test_ref, test_pred in tqdm(zip(orig, preds)):\n",
    "    bleu4 = sentence_bleu(test_ref, test_pred, smoothing_function=chencherry.method7)\n",
    "    bleu3 = sentence_bleu(test_ref, test_pred, weights=[1/3, 1/3, 1/3], smoothing_function=chencherry.method7)\n",
    "    bleu2 = sentence_bleu(test_ref, test_pred, weights=[1/2, 1/2], smoothing_function=chencherry.method7)\n",
    "    bleus_4.append(bleu4)\n",
    "    bleus_3.append(bleu3)\n",
    "    bleus_2.append(bleu2)\n",
    "\n",
    "np.mean(bleus_2), np.mean(bleus_3), np.mean(bleus_4)"
   ]
  },
  {
   "cell_type": "markdown",
   "id": "e296a7a3",
   "metadata": {},
   "source": [
    "## ROUGE Scores"
   ]
  },
  {
   "cell_type": "code",
   "execution_count": 56,
   "id": "c6e46313",
   "metadata": {},
   "outputs": [
    {
     "name": "stderr",
     "output_type": "stream",
     "text": [
      "80it [00:00, 1114.30it/s]"
     ]
    },
    {
     "name": "stdout",
     "output_type": "stream",
     "text": [
      "0.5954285 0.673767 0.64506596\n",
      "0.5103892 0.5967674 0.5668\n",
      "0.5954285 0.673767 0.64506596\n"
     ]
    },
    {
     "name": "stderr",
     "output_type": "stream",
     "text": [
      "\n"
     ]
    }
   ],
   "source": [
    "#new\n",
    "rouge = ROUGEScore()\n",
    "r_f_measure_1, r_precision_1, r_recall_1 = [], [], []\n",
    "r_f_measure_2, r_precision_2, r_recall_2 = [], [], []\n",
    "r_f_measure_l, r_precision_l, r_recall_l = [], [], []\n",
    "for test_ref, test_pred in tqdm(zip(orig, preds)):\n",
    "    rouge_dict = rouge(test_pred, test_ref)\n",
    "    rouge1_fmeasure = rouge_dict[\"rouge1_fmeasure\"]\n",
    "    rouge1_precision = rouge_dict[\"rouge1_precision\"]\n",
    "    rouge1_recall = rouge_dict[\"rouge1_recall\"]\n",
    "    rouge2_fmeasure = rouge_dict[\"rouge2_fmeasure\"]\n",
    "    rouge2_precision = rouge_dict[\"rouge2_precision\"]\n",
    "    rouge2_recall = rouge_dict[\"rouge2_recall\"]\n",
    "    rougeL_fmeasure = rouge_dict[\"rougeL_fmeasure\"]\n",
    "    rougeL_precision = rouge_dict[\"rougeL_precision\"]\n",
    "    rougeL_recall = rouge_dict[\"rougeL_recall\"]\n",
    "    \n",
    "    r_f_measure_1.append(rouge1_fmeasure)\n",
    "    r_precision_1.append(rouge1_precision)\n",
    "    r_recall_1.append(rouge1_recall)\n",
    "    r_f_measure_2.append(rouge2_fmeasure)\n",
    "    r_precision_2.append(rouge2_precision)\n",
    "    r_recall_2.append(rouge2_recall)\n",
    "    r_f_measure_l.append(rougeL_fmeasure)\n",
    "    r_precision_l.append(rougeL_precision)\n",
    "    r_recall_l.append(rougeL_recall)\n",
    "    \n",
    "print(np.mean(r_f_measure_1), np.mean(r_precision_1), np.mean(r_recall_1))\n",
    "print(np.mean(r_f_measure_2), np.mean(r_precision_2), np.mean(r_recall_2))\n",
    "print(np.mean(r_f_measure_l), np.mean(r_precision_l), np.mean(r_recall_l))"
   ]
  },
  {
   "cell_type": "code",
   "execution_count": 39,
   "id": "fc652b43",
   "metadata": {},
   "outputs": [
    {
     "name": "stderr",
     "output_type": "stream",
     "text": [
      "80it [00:00, 275.36it/s]"
     ]
    },
    {
     "name": "stdout",
     "output_type": "stream",
     "text": [
      "0.009027777 0.012291667 0.009666667\n",
      "0.0 0.0 0.0\n",
      "0.009027777 0.012291667 0.009666667\n"
     ]
    },
    {
     "name": "stderr",
     "output_type": "stream",
     "text": [
      "\n"
     ]
    }
   ],
   "source": [
    "rouge = ROUGEScore()\n",
    "r_f_measure_1, r_precision_1, r_recall_1 = [], [], []\n",
    "r_f_measure_2, r_precision_2, r_recall_2 = [], [], []\n",
    "r_f_measure_l, r_precision_l, r_recall_l = [], [], []\n",
    "for test_ref, test_pred in tqdm(zip(orig, preds)):\n",
    "    rouge_dict = rouge(test_pred, test_ref)\n",
    "    rouge1_fmeasure = rouge_dict[\"rouge1_fmeasure\"]\n",
    "    rouge1_precision = rouge_dict[\"rouge1_precision\"]\n",
    "    rouge1_recall = rouge_dict[\"rouge1_recall\"]\n",
    "    rouge2_fmeasure = rouge_dict[\"rouge2_fmeasure\"]\n",
    "    rouge2_precision = rouge_dict[\"rouge2_precision\"]\n",
    "    rouge2_recall = rouge_dict[\"rouge2_recall\"]\n",
    "    rougeL_fmeasure = rouge_dict[\"rougeL_fmeasure\"]\n",
    "    rougeL_precision = rouge_dict[\"rougeL_precision\"]\n",
    "    rougeL_recall = rouge_dict[\"rougeL_recall\"]\n",
    "    \n",
    "    r_f_measure_1.append(rouge1_fmeasure)\n",
    "    r_precision_1.append(rouge1_precision)\n",
    "    r_recall_1.append(rouge1_recall)\n",
    "    r_f_measure_2.append(rouge2_fmeasure)\n",
    "    r_precision_2.append(rouge2_precision)\n",
    "    r_recall_2.append(rouge2_recall)\n",
    "    r_f_measure_l.append(rougeL_fmeasure)\n",
    "    r_precision_l.append(rougeL_precision)\n",
    "    r_recall_l.append(rougeL_recall)\n",
    "    \n",
    "print(np.mean(r_f_measure_1), np.mean(r_precision_1), np.mean(r_recall_1))\n",
    "print(np.mean(r_f_measure_2), np.mean(r_precision_2), np.mean(r_recall_2))\n",
    "print(np.mean(r_f_measure_l), np.mean(r_precision_l), np.mean(r_recall_l))"
   ]
  },
  {
   "cell_type": "markdown",
   "id": "2ab0dd99",
   "metadata": {},
   "source": [
    "## BERT Scores"
   ]
  },
  {
   "cell_type": "code",
   "execution_count": 40,
   "id": "70d87dce",
   "metadata": {
    "scrolled": true
   },
   "outputs": [
    {
     "name": "stderr",
     "output_type": "stream",
     "text": [
      "/home/kie/anaconda3/lib/python3.8/site-packages/torchmetrics/text/bert.py:163: UserWarning: The argument `model_name_or_path` was not specified while it is required when the default `transformers` model is used. It will use the default recommended model - 'roberta-large'.\n",
      "  warn(\n"
     ]
    },
    {
     "data": {
      "application/vnd.jupyter.widget-view+json": {
       "model_id": "649755fb11b94c48b2a05ada882b9558",
       "version_major": 2,
       "version_minor": 0
      },
      "text/plain": [
       "Downloading:   0%|          | 0.00/482 [00:00<?, ?B/s]"
      ]
     },
     "metadata": {},
     "output_type": "display_data"
    },
    {
     "data": {
      "application/vnd.jupyter.widget-view+json": {
       "model_id": "557e49171dfc4a67a63e8261e5a77b95",
       "version_major": 2,
       "version_minor": 0
      },
      "text/plain": [
       "Downloading:   0%|          | 0.00/899k [00:00<?, ?B/s]"
      ]
     },
     "metadata": {},
     "output_type": "display_data"
    },
    {
     "data": {
      "application/vnd.jupyter.widget-view+json": {
       "model_id": "5c3c9c7981fa46b79c89777fac9e0080",
       "version_major": 2,
       "version_minor": 0
      },
      "text/plain": [
       "Downloading:   0%|          | 0.00/456k [00:00<?, ?B/s]"
      ]
     },
     "metadata": {},
     "output_type": "display_data"
    },
    {
     "data": {
      "application/vnd.jupyter.widget-view+json": {
       "model_id": "52c2571917ae4616801caaa048f10156",
       "version_major": 2,
       "version_minor": 0
      },
      "text/plain": [
       "Downloading:   0%|          | 0.00/1.36M [00:00<?, ?B/s]"
      ]
     },
     "metadata": {},
     "output_type": "display_data"
    },
    {
     "ename": "ValueError",
     "evalue": "Unable to create tensor, you should probably activate truncation and/or padding with 'padding=True' 'truncation=True' to have batched tensors with the same length. Perhaps your features (`input_ids` in this case) have excessive nesting (inputs type `list` where type `int` is expected).",
     "output_type": "error",
     "traceback": [
      "\u001b[0;31m---------------------------------------------------------------------------\u001b[0m",
      "\u001b[0;31mValueError\u001b[0m                                Traceback (most recent call last)",
      "File \u001b[0;32m~/anaconda3/lib/python3.8/site-packages/transformers/tokenization_utils_base.py:715\u001b[0m, in \u001b[0;36mBatchEncoding.convert_to_tensors\u001b[0;34m(self, tensor_type, prepend_batch_axis)\u001b[0m\n\u001b[1;32m    714\u001b[0m \u001b[38;5;28;01mif\u001b[39;00m \u001b[38;5;129;01mnot\u001b[39;00m is_tensor(value):\n\u001b[0;32m--> 715\u001b[0m     tensor \u001b[38;5;241m=\u001b[39m \u001b[43mas_tensor\u001b[49m\u001b[43m(\u001b[49m\u001b[43mvalue\u001b[49m\u001b[43m)\u001b[49m\n\u001b[1;32m    717\u001b[0m     \u001b[38;5;66;03m# Removing this for now in favor of controlling the shape with `prepend_batch_axis`\u001b[39;00m\n\u001b[1;32m    718\u001b[0m     \u001b[38;5;66;03m# # at-least2d\u001b[39;00m\n\u001b[1;32m    719\u001b[0m     \u001b[38;5;66;03m# if tensor.ndim > 2:\u001b[39;00m\n\u001b[1;32m    720\u001b[0m     \u001b[38;5;66;03m#     tensor = tensor.squeeze(0)\u001b[39;00m\n\u001b[1;32m    721\u001b[0m     \u001b[38;5;66;03m# elif tensor.ndim < 2:\u001b[39;00m\n\u001b[1;32m    722\u001b[0m     \u001b[38;5;66;03m#     tensor = tensor[None, :]\u001b[39;00m\n",
      "\u001b[0;31mValueError\u001b[0m: expected sequence of length 894 at dim 1 (got 957)",
      "\nDuring handling of the above exception, another exception occurred:\n",
      "\u001b[0;31mValueError\u001b[0m                                Traceback (most recent call last)",
      "Input \u001b[0;32mIn [40]\u001b[0m, in \u001b[0;36m<cell line: 2>\u001b[0;34m()\u001b[0m\n\u001b[1;32m      1\u001b[0m bertscore \u001b[38;5;241m=\u001b[39m BERTScore()\n\u001b[0;32m----> 2\u001b[0m scores \u001b[38;5;241m=\u001b[39m \u001b[43mbertscore\u001b[49m\u001b[43m(\u001b[49m\u001b[43morig\u001b[49m\u001b[43m,\u001b[49m\u001b[43m \u001b[49m\u001b[43mpreds\u001b[49m\u001b[43m)\u001b[49m\n\u001b[1;32m      3\u001b[0m np\u001b[38;5;241m.\u001b[39mmean(scores[\u001b[38;5;124m\"\u001b[39m\u001b[38;5;124mprecision\u001b[39m\u001b[38;5;124m\"\u001b[39m]), np\u001b[38;5;241m.\u001b[39mmean(scores[\u001b[38;5;124m\"\u001b[39m\u001b[38;5;124mrecall\u001b[39m\u001b[38;5;124m\"\u001b[39m]), np\u001b[38;5;241m.\u001b[39mmean(scores[\u001b[38;5;124m\"\u001b[39m\u001b[38;5;124mf1\u001b[39m\u001b[38;5;124m\"\u001b[39m])\n",
      "File \u001b[0;32m~/.local/lib/python3.8/site-packages/torch/nn/modules/module.py:889\u001b[0m, in \u001b[0;36mModule._call_impl\u001b[0;34m(self, *input, **kwargs)\u001b[0m\n\u001b[1;32m    887\u001b[0m     result \u001b[38;5;241m=\u001b[39m \u001b[38;5;28mself\u001b[39m\u001b[38;5;241m.\u001b[39m_slow_forward(\u001b[38;5;241m*\u001b[39m\u001b[38;5;28minput\u001b[39m, \u001b[38;5;241m*\u001b[39m\u001b[38;5;241m*\u001b[39mkwargs)\n\u001b[1;32m    888\u001b[0m \u001b[38;5;28;01melse\u001b[39;00m:\n\u001b[0;32m--> 889\u001b[0m     result \u001b[38;5;241m=\u001b[39m \u001b[38;5;28;43mself\u001b[39;49m\u001b[38;5;241;43m.\u001b[39;49m\u001b[43mforward\u001b[49m\u001b[43m(\u001b[49m\u001b[38;5;241;43m*\u001b[39;49m\u001b[38;5;28;43minput\u001b[39;49m\u001b[43m,\u001b[49m\u001b[43m \u001b[49m\u001b[38;5;241;43m*\u001b[39;49m\u001b[38;5;241;43m*\u001b[39;49m\u001b[43mkwargs\u001b[49m\u001b[43m)\u001b[49m\n\u001b[1;32m    890\u001b[0m \u001b[38;5;28;01mfor\u001b[39;00m hook \u001b[38;5;129;01min\u001b[39;00m itertools\u001b[38;5;241m.\u001b[39mchain(\n\u001b[1;32m    891\u001b[0m         _global_forward_hooks\u001b[38;5;241m.\u001b[39mvalues(),\n\u001b[1;32m    892\u001b[0m         \u001b[38;5;28mself\u001b[39m\u001b[38;5;241m.\u001b[39m_forward_hooks\u001b[38;5;241m.\u001b[39mvalues()):\n\u001b[1;32m    893\u001b[0m     hook_result \u001b[38;5;241m=\u001b[39m hook(\u001b[38;5;28mself\u001b[39m, \u001b[38;5;28minput\u001b[39m, result)\n",
      "File \u001b[0;32m~/anaconda3/lib/python3.8/site-packages/torchmetrics/metric.py:234\u001b[0m, in \u001b[0;36mMetric.forward\u001b[0;34m(self, *args, **kwargs)\u001b[0m\n\u001b[1;32m    232\u001b[0m     \u001b[38;5;28mself\u001b[39m\u001b[38;5;241m.\u001b[39m_forward_cache \u001b[38;5;241m=\u001b[39m \u001b[38;5;28mself\u001b[39m\u001b[38;5;241m.\u001b[39m_forward_full_state_update(\u001b[38;5;241m*\u001b[39margs, \u001b[38;5;241m*\u001b[39m\u001b[38;5;241m*\u001b[39mkwargs)\n\u001b[1;32m    233\u001b[0m \u001b[38;5;28;01melse\u001b[39;00m:\n\u001b[0;32m--> 234\u001b[0m     \u001b[38;5;28mself\u001b[39m\u001b[38;5;241m.\u001b[39m_forward_cache \u001b[38;5;241m=\u001b[39m \u001b[38;5;28;43mself\u001b[39;49m\u001b[38;5;241;43m.\u001b[39;49m\u001b[43m_forward_reduce_state_update\u001b[49m\u001b[43m(\u001b[49m\u001b[38;5;241;43m*\u001b[39;49m\u001b[43margs\u001b[49m\u001b[43m,\u001b[49m\u001b[43m \u001b[49m\u001b[38;5;241;43m*\u001b[39;49m\u001b[38;5;241;43m*\u001b[39;49m\u001b[43mkwargs\u001b[49m\u001b[43m)\u001b[49m\n\u001b[1;32m    236\u001b[0m \u001b[38;5;28;01mreturn\u001b[39;00m \u001b[38;5;28mself\u001b[39m\u001b[38;5;241m.\u001b[39m_forward_cache\n",
      "File \u001b[0;32m~/anaconda3/lib/python3.8/site-packages/torchmetrics/metric.py:300\u001b[0m, in \u001b[0;36mMetric._forward_reduce_state_update\u001b[0;34m(self, *args, **kwargs)\u001b[0m\n\u001b[1;32m    297\u001b[0m \u001b[38;5;28mself\u001b[39m\u001b[38;5;241m.\u001b[39m_enable_grad \u001b[38;5;241m=\u001b[39m \u001b[38;5;28;01mTrue\u001b[39;00m  \u001b[38;5;66;03m# allow grads for batch computation\u001b[39;00m\n\u001b[1;32m    299\u001b[0m \u001b[38;5;66;03m# calculate batch state and compute batch value\u001b[39;00m\n\u001b[0;32m--> 300\u001b[0m \u001b[38;5;28;43mself\u001b[39;49m\u001b[38;5;241;43m.\u001b[39;49m\u001b[43mupdate\u001b[49m\u001b[43m(\u001b[49m\u001b[38;5;241;43m*\u001b[39;49m\u001b[43margs\u001b[49m\u001b[43m,\u001b[49m\u001b[43m \u001b[49m\u001b[38;5;241;43m*\u001b[39;49m\u001b[38;5;241;43m*\u001b[39;49m\u001b[43mkwargs\u001b[49m\u001b[43m)\u001b[49m\n\u001b[1;32m    301\u001b[0m batch_val \u001b[38;5;241m=\u001b[39m \u001b[38;5;28mself\u001b[39m\u001b[38;5;241m.\u001b[39mcompute()\n\u001b[1;32m    303\u001b[0m \u001b[38;5;66;03m# reduce batch and global state\u001b[39;00m\n",
      "File \u001b[0;32m~/anaconda3/lib/python3.8/site-packages/torchmetrics/metric.py:388\u001b[0m, in \u001b[0;36mMetric._wrap_update.<locals>.wrapped_func\u001b[0;34m(*args, **kwargs)\u001b[0m\n\u001b[1;32m    386\u001b[0m \u001b[38;5;28;01mwith\u001b[39;00m torch\u001b[38;5;241m.\u001b[39mset_grad_enabled(\u001b[38;5;28mself\u001b[39m\u001b[38;5;241m.\u001b[39m_enable_grad):\n\u001b[1;32m    387\u001b[0m     \u001b[38;5;28;01mtry\u001b[39;00m:\n\u001b[0;32m--> 388\u001b[0m         \u001b[43mupdate\u001b[49m\u001b[43m(\u001b[49m\u001b[38;5;241;43m*\u001b[39;49m\u001b[43margs\u001b[49m\u001b[43m,\u001b[49m\u001b[43m \u001b[49m\u001b[38;5;241;43m*\u001b[39;49m\u001b[38;5;241;43m*\u001b[39;49m\u001b[43mkwargs\u001b[49m\u001b[43m)\u001b[49m\n\u001b[1;32m    389\u001b[0m     \u001b[38;5;28;01mexcept\u001b[39;00m \u001b[38;5;167;01mRuntimeError\u001b[39;00m \u001b[38;5;28;01mas\u001b[39;00m err:\n\u001b[1;32m    390\u001b[0m         \u001b[38;5;28;01mif\u001b[39;00m \u001b[38;5;124m\"\u001b[39m\u001b[38;5;124mExpected all tensors to be on\u001b[39m\u001b[38;5;124m\"\u001b[39m \u001b[38;5;129;01min\u001b[39;00m \u001b[38;5;28mstr\u001b[39m(err):\n",
      "File \u001b[0;32m~/anaconda3/lib/python3.8/site-packages/torchmetrics/text/bert.py:184\u001b[0m, in \u001b[0;36mBERTScore.update\u001b[0;34m(self, preds, target)\u001b[0m\n\u001b[1;32m    176\u001b[0m \u001b[38;5;28;01mdef\u001b[39;00m \u001b[38;5;21mupdate\u001b[39m(\u001b[38;5;28mself\u001b[39m, preds: List[\u001b[38;5;28mstr\u001b[39m], target: List[\u001b[38;5;28mstr\u001b[39m]) \u001b[38;5;241m-\u001b[39m\u001b[38;5;241m>\u001b[39m \u001b[38;5;28;01mNone\u001b[39;00m:\n\u001b[1;32m    177\u001b[0m     \u001b[38;5;124;03m\"\"\"Store predictions/references for computing BERT scores. It is necessary to store sentences in a\u001b[39;00m\n\u001b[1;32m    178\u001b[0m \u001b[38;5;124;03m    tokenized form to ensure the DDP mode working.\u001b[39;00m\n\u001b[1;32m    179\u001b[0m \n\u001b[0;32m   (...)\u001b[0m\n\u001b[1;32m    182\u001b[0m \u001b[38;5;124;03m        target: An iterable of reference sentences.\u001b[39;00m\n\u001b[1;32m    183\u001b[0m \u001b[38;5;124;03m    \"\"\"\u001b[39;00m\n\u001b[0;32m--> 184\u001b[0m     preds_dict, _ \u001b[38;5;241m=\u001b[39m \u001b[43m_preprocess_text\u001b[49m\u001b[43m(\u001b[49m\n\u001b[1;32m    185\u001b[0m \u001b[43m        \u001b[49m\u001b[43mpreds\u001b[49m\u001b[43m,\u001b[49m\n\u001b[1;32m    186\u001b[0m \u001b[43m        \u001b[49m\u001b[38;5;28;43mself\u001b[39;49m\u001b[38;5;241;43m.\u001b[39;49m\u001b[43mtokenizer\u001b[49m\u001b[43m,\u001b[49m\n\u001b[1;32m    187\u001b[0m \u001b[43m        \u001b[49m\u001b[38;5;28;43mself\u001b[39;49m\u001b[38;5;241;43m.\u001b[39;49m\u001b[43mmax_length\u001b[49m\u001b[43m,\u001b[49m\n\u001b[1;32m    188\u001b[0m \u001b[43m        \u001b[49m\u001b[43mtruncation\u001b[49m\u001b[38;5;241;43m=\u001b[39;49m\u001b[38;5;28;43;01mFalse\u001b[39;49;00m\u001b[43m,\u001b[49m\n\u001b[1;32m    189\u001b[0m \u001b[43m        \u001b[49m\u001b[43msort_according_length\u001b[49m\u001b[38;5;241;43m=\u001b[39;49m\u001b[38;5;28;43;01mFalse\u001b[39;49;00m\u001b[43m,\u001b[49m\n\u001b[1;32m    190\u001b[0m \u001b[43m        \u001b[49m\u001b[43mown_tokenizer\u001b[49m\u001b[38;5;241;43m=\u001b[39;49m\u001b[38;5;28;43mself\u001b[39;49m\u001b[38;5;241;43m.\u001b[39;49m\u001b[43muser_tokenizer\u001b[49m\u001b[43m,\u001b[49m\n\u001b[1;32m    191\u001b[0m \u001b[43m    \u001b[49m\u001b[43m)\u001b[49m\n\u001b[1;32m    192\u001b[0m     target_dict, _ \u001b[38;5;241m=\u001b[39m _preprocess_text(\n\u001b[1;32m    193\u001b[0m         target,\n\u001b[1;32m    194\u001b[0m         \u001b[38;5;28mself\u001b[39m\u001b[38;5;241m.\u001b[39mtokenizer,\n\u001b[0;32m   (...)\u001b[0m\n\u001b[1;32m    198\u001b[0m         own_tokenizer\u001b[38;5;241m=\u001b[39m\u001b[38;5;28mself\u001b[39m\u001b[38;5;241m.\u001b[39muser_tokenizer,\n\u001b[1;32m    199\u001b[0m     )\n\u001b[1;32m    201\u001b[0m     \u001b[38;5;28mself\u001b[39m\u001b[38;5;241m.\u001b[39mpreds_input_ids\u001b[38;5;241m.\u001b[39mappend(preds_dict[\u001b[38;5;124m\"\u001b[39m\u001b[38;5;124minput_ids\u001b[39m\u001b[38;5;124m\"\u001b[39m])\n",
      "File \u001b[0;32m~/anaconda3/lib/python3.8/site-packages/torchmetrics/functional/text/helper_embedding_metric.py:117\u001b[0m, in \u001b[0;36m_preprocess_text\u001b[0;34m(text, tokenizer, max_length, truncation, sort_according_length, own_tokenizer)\u001b[0m\n\u001b[1;32m     92\u001b[0m \u001b[38;5;124;03m\"\"\"Default text pre-processing function using `transformers` `AutoTokenizer` instance.\u001b[39;00m\n\u001b[1;32m     93\u001b[0m \n\u001b[1;32m     94\u001b[0m \u001b[38;5;124;03mArgs:\u001b[39;00m\n\u001b[0;32m   (...)\u001b[0m\n\u001b[1;32m    114\u001b[0m \u001b[38;5;124;03m        If a tokenization with a user's own tokenizer is not successful.\u001b[39;00m\n\u001b[1;32m    115\u001b[0m \u001b[38;5;124;03m\"\"\"\u001b[39;00m\n\u001b[1;32m    116\u001b[0m \u001b[38;5;28;01mif\u001b[39;00m \u001b[38;5;129;01mnot\u001b[39;00m own_tokenizer:\n\u001b[0;32m--> 117\u001b[0m     tokenized_data \u001b[38;5;241m=\u001b[39m \u001b[43mtokenizer\u001b[49m\u001b[43m(\u001b[49m\n\u001b[1;32m    118\u001b[0m \u001b[43m        \u001b[49m\u001b[43mtext\u001b[49m\u001b[43m,\u001b[49m\u001b[43m \u001b[49m\u001b[43mpadding\u001b[49m\u001b[38;5;241;43m=\u001b[39;49m\u001b[38;5;124;43m\"\u001b[39;49m\u001b[38;5;124;43mmax_length\u001b[39;49m\u001b[38;5;124;43m\"\u001b[39;49m\u001b[43m,\u001b[49m\u001b[43m \u001b[49m\u001b[43mmax_length\u001b[49m\u001b[38;5;241;43m=\u001b[39;49m\u001b[43mmax_length\u001b[49m\u001b[43m,\u001b[49m\u001b[43m \u001b[49m\u001b[43mtruncation\u001b[49m\u001b[38;5;241;43m=\u001b[39;49m\u001b[43mtruncation\u001b[49m\u001b[43m,\u001b[49m\u001b[43m \u001b[49m\u001b[43mreturn_tensors\u001b[49m\u001b[38;5;241;43m=\u001b[39;49m\u001b[38;5;124;43m\"\u001b[39;49m\u001b[38;5;124;43mpt\u001b[39;49m\u001b[38;5;124;43m\"\u001b[39;49m\n\u001b[1;32m    119\u001b[0m \u001b[43m    \u001b[49m\u001b[43m)\u001b[49m\n\u001b[1;32m    120\u001b[0m \u001b[38;5;28;01melse\u001b[39;00m:\n\u001b[1;32m    121\u001b[0m     \u001b[38;5;28;01mtry\u001b[39;00m:\n",
      "File \u001b[0;32m~/anaconda3/lib/python3.8/site-packages/transformers/tokenization_utils_base.py:2488\u001b[0m, in \u001b[0;36mPreTrainedTokenizerBase.__call__\u001b[0;34m(self, text, text_pair, text_target, text_pair_target, add_special_tokens, padding, truncation, max_length, stride, is_split_into_words, pad_to_multiple_of, return_tensors, return_token_type_ids, return_attention_mask, return_overflowing_tokens, return_special_tokens_mask, return_offsets_mapping, return_length, verbose, **kwargs)\u001b[0m\n\u001b[1;32m   2486\u001b[0m     \u001b[38;5;28;01mif\u001b[39;00m \u001b[38;5;129;01mnot\u001b[39;00m \u001b[38;5;28mself\u001b[39m\u001b[38;5;241m.\u001b[39m_in_target_context_manager:\n\u001b[1;32m   2487\u001b[0m         \u001b[38;5;28mself\u001b[39m\u001b[38;5;241m.\u001b[39m_switch_to_input_mode()\n\u001b[0;32m-> 2488\u001b[0m     encodings \u001b[38;5;241m=\u001b[39m \u001b[38;5;28;43mself\u001b[39;49m\u001b[38;5;241;43m.\u001b[39;49m\u001b[43m_call_one\u001b[49m\u001b[43m(\u001b[49m\u001b[43mtext\u001b[49m\u001b[38;5;241;43m=\u001b[39;49m\u001b[43mtext\u001b[49m\u001b[43m,\u001b[49m\u001b[43m \u001b[49m\u001b[43mtext_pair\u001b[49m\u001b[38;5;241;43m=\u001b[39;49m\u001b[43mtext_pair\u001b[49m\u001b[43m,\u001b[49m\u001b[43m \u001b[49m\u001b[38;5;241;43m*\u001b[39;49m\u001b[38;5;241;43m*\u001b[39;49m\u001b[43mall_kwargs\u001b[49m\u001b[43m)\u001b[49m\n\u001b[1;32m   2489\u001b[0m \u001b[38;5;28;01mif\u001b[39;00m text_target \u001b[38;5;129;01mis\u001b[39;00m \u001b[38;5;129;01mnot\u001b[39;00m \u001b[38;5;28;01mNone\u001b[39;00m:\n\u001b[1;32m   2490\u001b[0m     \u001b[38;5;28mself\u001b[39m\u001b[38;5;241m.\u001b[39m_switch_to_target_mode()\n",
      "File \u001b[0;32m~/anaconda3/lib/python3.8/site-packages/transformers/tokenization_utils_base.py:2574\u001b[0m, in \u001b[0;36mPreTrainedTokenizerBase._call_one\u001b[0;34m(self, text, text_pair, add_special_tokens, padding, truncation, max_length, stride, is_split_into_words, pad_to_multiple_of, return_tensors, return_token_type_ids, return_attention_mask, return_overflowing_tokens, return_special_tokens_mask, return_offsets_mapping, return_length, verbose, **kwargs)\u001b[0m\n\u001b[1;32m   2569\u001b[0m         \u001b[38;5;28;01mraise\u001b[39;00m \u001b[38;5;167;01mValueError\u001b[39;00m(\n\u001b[1;32m   2570\u001b[0m             \u001b[38;5;124mf\u001b[39m\u001b[38;5;124m\"\u001b[39m\u001b[38;5;124mbatch length of `text`: \u001b[39m\u001b[38;5;132;01m{\u001b[39;00m\u001b[38;5;28mlen\u001b[39m(text)\u001b[38;5;132;01m}\u001b[39;00m\u001b[38;5;124m does not match batch length of `text_pair`:\u001b[39m\u001b[38;5;124m\"\u001b[39m\n\u001b[1;32m   2571\u001b[0m             \u001b[38;5;124mf\u001b[39m\u001b[38;5;124m\"\u001b[39m\u001b[38;5;124m \u001b[39m\u001b[38;5;132;01m{\u001b[39;00m\u001b[38;5;28mlen\u001b[39m(text_pair)\u001b[38;5;132;01m}\u001b[39;00m\u001b[38;5;124m.\u001b[39m\u001b[38;5;124m\"\u001b[39m\n\u001b[1;32m   2572\u001b[0m         )\n\u001b[1;32m   2573\u001b[0m     batch_text_or_text_pairs \u001b[38;5;241m=\u001b[39m \u001b[38;5;28mlist\u001b[39m(\u001b[38;5;28mzip\u001b[39m(text, text_pair)) \u001b[38;5;28;01mif\u001b[39;00m text_pair \u001b[38;5;129;01mis\u001b[39;00m \u001b[38;5;129;01mnot\u001b[39;00m \u001b[38;5;28;01mNone\u001b[39;00m \u001b[38;5;28;01melse\u001b[39;00m text\n\u001b[0;32m-> 2574\u001b[0m     \u001b[38;5;28;01mreturn\u001b[39;00m \u001b[38;5;28;43mself\u001b[39;49m\u001b[38;5;241;43m.\u001b[39;49m\u001b[43mbatch_encode_plus\u001b[49m\u001b[43m(\u001b[49m\n\u001b[1;32m   2575\u001b[0m \u001b[43m        \u001b[49m\u001b[43mbatch_text_or_text_pairs\u001b[49m\u001b[38;5;241;43m=\u001b[39;49m\u001b[43mbatch_text_or_text_pairs\u001b[49m\u001b[43m,\u001b[49m\n\u001b[1;32m   2576\u001b[0m \u001b[43m        \u001b[49m\u001b[43madd_special_tokens\u001b[49m\u001b[38;5;241;43m=\u001b[39;49m\u001b[43madd_special_tokens\u001b[49m\u001b[43m,\u001b[49m\n\u001b[1;32m   2577\u001b[0m \u001b[43m        \u001b[49m\u001b[43mpadding\u001b[49m\u001b[38;5;241;43m=\u001b[39;49m\u001b[43mpadding\u001b[49m\u001b[43m,\u001b[49m\n\u001b[1;32m   2578\u001b[0m \u001b[43m        \u001b[49m\u001b[43mtruncation\u001b[49m\u001b[38;5;241;43m=\u001b[39;49m\u001b[43mtruncation\u001b[49m\u001b[43m,\u001b[49m\n\u001b[1;32m   2579\u001b[0m \u001b[43m        \u001b[49m\u001b[43mmax_length\u001b[49m\u001b[38;5;241;43m=\u001b[39;49m\u001b[43mmax_length\u001b[49m\u001b[43m,\u001b[49m\n\u001b[1;32m   2580\u001b[0m \u001b[43m        \u001b[49m\u001b[43mstride\u001b[49m\u001b[38;5;241;43m=\u001b[39;49m\u001b[43mstride\u001b[49m\u001b[43m,\u001b[49m\n\u001b[1;32m   2581\u001b[0m \u001b[43m        \u001b[49m\u001b[43mis_split_into_words\u001b[49m\u001b[38;5;241;43m=\u001b[39;49m\u001b[43mis_split_into_words\u001b[49m\u001b[43m,\u001b[49m\n\u001b[1;32m   2582\u001b[0m \u001b[43m        \u001b[49m\u001b[43mpad_to_multiple_of\u001b[49m\u001b[38;5;241;43m=\u001b[39;49m\u001b[43mpad_to_multiple_of\u001b[49m\u001b[43m,\u001b[49m\n\u001b[1;32m   2583\u001b[0m \u001b[43m        \u001b[49m\u001b[43mreturn_tensors\u001b[49m\u001b[38;5;241;43m=\u001b[39;49m\u001b[43mreturn_tensors\u001b[49m\u001b[43m,\u001b[49m\n\u001b[1;32m   2584\u001b[0m \u001b[43m        \u001b[49m\u001b[43mreturn_token_type_ids\u001b[49m\u001b[38;5;241;43m=\u001b[39;49m\u001b[43mreturn_token_type_ids\u001b[49m\u001b[43m,\u001b[49m\n\u001b[1;32m   2585\u001b[0m \u001b[43m        \u001b[49m\u001b[43mreturn_attention_mask\u001b[49m\u001b[38;5;241;43m=\u001b[39;49m\u001b[43mreturn_attention_mask\u001b[49m\u001b[43m,\u001b[49m\n\u001b[1;32m   2586\u001b[0m \u001b[43m        \u001b[49m\u001b[43mreturn_overflowing_tokens\u001b[49m\u001b[38;5;241;43m=\u001b[39;49m\u001b[43mreturn_overflowing_tokens\u001b[49m\u001b[43m,\u001b[49m\n\u001b[1;32m   2587\u001b[0m \u001b[43m        \u001b[49m\u001b[43mreturn_special_tokens_mask\u001b[49m\u001b[38;5;241;43m=\u001b[39;49m\u001b[43mreturn_special_tokens_mask\u001b[49m\u001b[43m,\u001b[49m\n\u001b[1;32m   2588\u001b[0m \u001b[43m        \u001b[49m\u001b[43mreturn_offsets_mapping\u001b[49m\u001b[38;5;241;43m=\u001b[39;49m\u001b[43mreturn_offsets_mapping\u001b[49m\u001b[43m,\u001b[49m\n\u001b[1;32m   2589\u001b[0m \u001b[43m        \u001b[49m\u001b[43mreturn_length\u001b[49m\u001b[38;5;241;43m=\u001b[39;49m\u001b[43mreturn_length\u001b[49m\u001b[43m,\u001b[49m\n\u001b[1;32m   2590\u001b[0m \u001b[43m        \u001b[49m\u001b[43mverbose\u001b[49m\u001b[38;5;241;43m=\u001b[39;49m\u001b[43mverbose\u001b[49m\u001b[43m,\u001b[49m\n\u001b[1;32m   2591\u001b[0m \u001b[43m        \u001b[49m\u001b[38;5;241;43m*\u001b[39;49m\u001b[38;5;241;43m*\u001b[39;49m\u001b[43mkwargs\u001b[49m\u001b[43m,\u001b[49m\n\u001b[1;32m   2592\u001b[0m \u001b[43m    \u001b[49m\u001b[43m)\u001b[49m\n\u001b[1;32m   2593\u001b[0m \u001b[38;5;28;01melse\u001b[39;00m:\n\u001b[1;32m   2594\u001b[0m     \u001b[38;5;28;01mreturn\u001b[39;00m \u001b[38;5;28mself\u001b[39m\u001b[38;5;241m.\u001b[39mencode_plus(\n\u001b[1;32m   2595\u001b[0m         text\u001b[38;5;241m=\u001b[39mtext,\n\u001b[1;32m   2596\u001b[0m         text_pair\u001b[38;5;241m=\u001b[39mtext_pair,\n\u001b[0;32m   (...)\u001b[0m\n\u001b[1;32m   2612\u001b[0m         \u001b[38;5;241m*\u001b[39m\u001b[38;5;241m*\u001b[39mkwargs,\n\u001b[1;32m   2613\u001b[0m     )\n",
      "File \u001b[0;32m~/anaconda3/lib/python3.8/site-packages/transformers/tokenization_utils_base.py:2765\u001b[0m, in \u001b[0;36mPreTrainedTokenizerBase.batch_encode_plus\u001b[0;34m(self, batch_text_or_text_pairs, add_special_tokens, padding, truncation, max_length, stride, is_split_into_words, pad_to_multiple_of, return_tensors, return_token_type_ids, return_attention_mask, return_overflowing_tokens, return_special_tokens_mask, return_offsets_mapping, return_length, verbose, **kwargs)\u001b[0m\n\u001b[1;32m   2755\u001b[0m \u001b[38;5;66;03m# Backward compatibility for 'truncation_strategy', 'pad_to_max_length'\u001b[39;00m\n\u001b[1;32m   2756\u001b[0m padding_strategy, truncation_strategy, max_length, kwargs \u001b[38;5;241m=\u001b[39m \u001b[38;5;28mself\u001b[39m\u001b[38;5;241m.\u001b[39m_get_padding_truncation_strategies(\n\u001b[1;32m   2757\u001b[0m     padding\u001b[38;5;241m=\u001b[39mpadding,\n\u001b[1;32m   2758\u001b[0m     truncation\u001b[38;5;241m=\u001b[39mtruncation,\n\u001b[0;32m   (...)\u001b[0m\n\u001b[1;32m   2762\u001b[0m     \u001b[38;5;241m*\u001b[39m\u001b[38;5;241m*\u001b[39mkwargs,\n\u001b[1;32m   2763\u001b[0m )\n\u001b[0;32m-> 2765\u001b[0m \u001b[38;5;28;01mreturn\u001b[39;00m \u001b[38;5;28;43mself\u001b[39;49m\u001b[38;5;241;43m.\u001b[39;49m\u001b[43m_batch_encode_plus\u001b[49m\u001b[43m(\u001b[49m\n\u001b[1;32m   2766\u001b[0m \u001b[43m    \u001b[49m\u001b[43mbatch_text_or_text_pairs\u001b[49m\u001b[38;5;241;43m=\u001b[39;49m\u001b[43mbatch_text_or_text_pairs\u001b[49m\u001b[43m,\u001b[49m\n\u001b[1;32m   2767\u001b[0m \u001b[43m    \u001b[49m\u001b[43madd_special_tokens\u001b[49m\u001b[38;5;241;43m=\u001b[39;49m\u001b[43madd_special_tokens\u001b[49m\u001b[43m,\u001b[49m\n\u001b[1;32m   2768\u001b[0m \u001b[43m    \u001b[49m\u001b[43mpadding_strategy\u001b[49m\u001b[38;5;241;43m=\u001b[39;49m\u001b[43mpadding_strategy\u001b[49m\u001b[43m,\u001b[49m\n\u001b[1;32m   2769\u001b[0m \u001b[43m    \u001b[49m\u001b[43mtruncation_strategy\u001b[49m\u001b[38;5;241;43m=\u001b[39;49m\u001b[43mtruncation_strategy\u001b[49m\u001b[43m,\u001b[49m\n\u001b[1;32m   2770\u001b[0m \u001b[43m    \u001b[49m\u001b[43mmax_length\u001b[49m\u001b[38;5;241;43m=\u001b[39;49m\u001b[43mmax_length\u001b[49m\u001b[43m,\u001b[49m\n\u001b[1;32m   2771\u001b[0m \u001b[43m    \u001b[49m\u001b[43mstride\u001b[49m\u001b[38;5;241;43m=\u001b[39;49m\u001b[43mstride\u001b[49m\u001b[43m,\u001b[49m\n\u001b[1;32m   2772\u001b[0m \u001b[43m    \u001b[49m\u001b[43mis_split_into_words\u001b[49m\u001b[38;5;241;43m=\u001b[39;49m\u001b[43mis_split_into_words\u001b[49m\u001b[43m,\u001b[49m\n\u001b[1;32m   2773\u001b[0m \u001b[43m    \u001b[49m\u001b[43mpad_to_multiple_of\u001b[49m\u001b[38;5;241;43m=\u001b[39;49m\u001b[43mpad_to_multiple_of\u001b[49m\u001b[43m,\u001b[49m\n\u001b[1;32m   2774\u001b[0m \u001b[43m    \u001b[49m\u001b[43mreturn_tensors\u001b[49m\u001b[38;5;241;43m=\u001b[39;49m\u001b[43mreturn_tensors\u001b[49m\u001b[43m,\u001b[49m\n\u001b[1;32m   2775\u001b[0m \u001b[43m    \u001b[49m\u001b[43mreturn_token_type_ids\u001b[49m\u001b[38;5;241;43m=\u001b[39;49m\u001b[43mreturn_token_type_ids\u001b[49m\u001b[43m,\u001b[49m\n\u001b[1;32m   2776\u001b[0m \u001b[43m    \u001b[49m\u001b[43mreturn_attention_mask\u001b[49m\u001b[38;5;241;43m=\u001b[39;49m\u001b[43mreturn_attention_mask\u001b[49m\u001b[43m,\u001b[49m\n\u001b[1;32m   2777\u001b[0m \u001b[43m    \u001b[49m\u001b[43mreturn_overflowing_tokens\u001b[49m\u001b[38;5;241;43m=\u001b[39;49m\u001b[43mreturn_overflowing_tokens\u001b[49m\u001b[43m,\u001b[49m\n\u001b[1;32m   2778\u001b[0m \u001b[43m    \u001b[49m\u001b[43mreturn_special_tokens_mask\u001b[49m\u001b[38;5;241;43m=\u001b[39;49m\u001b[43mreturn_special_tokens_mask\u001b[49m\u001b[43m,\u001b[49m\n\u001b[1;32m   2779\u001b[0m \u001b[43m    \u001b[49m\u001b[43mreturn_offsets_mapping\u001b[49m\u001b[38;5;241;43m=\u001b[39;49m\u001b[43mreturn_offsets_mapping\u001b[49m\u001b[43m,\u001b[49m\n\u001b[1;32m   2780\u001b[0m \u001b[43m    \u001b[49m\u001b[43mreturn_length\u001b[49m\u001b[38;5;241;43m=\u001b[39;49m\u001b[43mreturn_length\u001b[49m\u001b[43m,\u001b[49m\n\u001b[1;32m   2781\u001b[0m \u001b[43m    \u001b[49m\u001b[43mverbose\u001b[49m\u001b[38;5;241;43m=\u001b[39;49m\u001b[43mverbose\u001b[49m\u001b[43m,\u001b[49m\n\u001b[1;32m   2782\u001b[0m \u001b[43m    \u001b[49m\u001b[38;5;241;43m*\u001b[39;49m\u001b[38;5;241;43m*\u001b[39;49m\u001b[43mkwargs\u001b[49m\u001b[43m,\u001b[49m\n\u001b[1;32m   2783\u001b[0m \u001b[43m\u001b[49m\u001b[43m)\u001b[49m\n",
      "File \u001b[0;32m~/anaconda3/lib/python3.8/site-packages/transformers/models/roberta/tokenization_roberta_fast.py:263\u001b[0m, in \u001b[0;36mRobertaTokenizerFast._batch_encode_plus\u001b[0;34m(self, *args, **kwargs)\u001b[0m\n\u001b[1;32m    257\u001b[0m is_split_into_words \u001b[38;5;241m=\u001b[39m kwargs\u001b[38;5;241m.\u001b[39mget(\u001b[38;5;124m\"\u001b[39m\u001b[38;5;124mis_split_into_words\u001b[39m\u001b[38;5;124m\"\u001b[39m, \u001b[38;5;28;01mFalse\u001b[39;00m)\n\u001b[1;32m    258\u001b[0m \u001b[38;5;28;01massert\u001b[39;00m \u001b[38;5;28mself\u001b[39m\u001b[38;5;241m.\u001b[39madd_prefix_space \u001b[38;5;129;01mor\u001b[39;00m \u001b[38;5;129;01mnot\u001b[39;00m is_split_into_words, (\n\u001b[1;32m    259\u001b[0m     \u001b[38;5;124mf\u001b[39m\u001b[38;5;124m\"\u001b[39m\u001b[38;5;124mYou need to instantiate \u001b[39m\u001b[38;5;132;01m{\u001b[39;00m\u001b[38;5;28mself\u001b[39m\u001b[38;5;241m.\u001b[39m\u001b[38;5;18m__class__\u001b[39m\u001b[38;5;241m.\u001b[39m\u001b[38;5;18m__name__\u001b[39m\u001b[38;5;132;01m}\u001b[39;00m\u001b[38;5;124m with add_prefix_space=True \u001b[39m\u001b[38;5;124m\"\u001b[39m\n\u001b[1;32m    260\u001b[0m     \u001b[38;5;124m\"\u001b[39m\u001b[38;5;124mto use it with pretokenized inputs.\u001b[39m\u001b[38;5;124m\"\u001b[39m\n\u001b[1;32m    261\u001b[0m )\n\u001b[0;32m--> 263\u001b[0m \u001b[38;5;28;01mreturn\u001b[39;00m \u001b[38;5;28;43msuper\u001b[39;49m\u001b[43m(\u001b[49m\u001b[43m)\u001b[49m\u001b[38;5;241;43m.\u001b[39;49m\u001b[43m_batch_encode_plus\u001b[49m\u001b[43m(\u001b[49m\u001b[38;5;241;43m*\u001b[39;49m\u001b[43margs\u001b[49m\u001b[43m,\u001b[49m\u001b[43m \u001b[49m\u001b[38;5;241;43m*\u001b[39;49m\u001b[38;5;241;43m*\u001b[39;49m\u001b[43mkwargs\u001b[49m\u001b[43m)\u001b[49m\n",
      "File \u001b[0;32m~/anaconda3/lib/python3.8/site-packages/transformers/tokenization_utils_fast.py:477\u001b[0m, in \u001b[0;36mPreTrainedTokenizerFast._batch_encode_plus\u001b[0;34m(self, batch_text_or_text_pairs, add_special_tokens, padding_strategy, truncation_strategy, max_length, stride, is_split_into_words, pad_to_multiple_of, return_tensors, return_token_type_ids, return_attention_mask, return_overflowing_tokens, return_special_tokens_mask, return_offsets_mapping, return_length, verbose)\u001b[0m\n\u001b[1;32m    475\u001b[0m \u001b[38;5;28;01mfor\u001b[39;00m input_ids \u001b[38;5;129;01min\u001b[39;00m sanitized_tokens[\u001b[38;5;124m\"\u001b[39m\u001b[38;5;124minput_ids\u001b[39m\u001b[38;5;124m\"\u001b[39m]:\n\u001b[1;32m    476\u001b[0m     \u001b[38;5;28mself\u001b[39m\u001b[38;5;241m.\u001b[39m_eventual_warn_about_too_long_sequence(input_ids, max_length, verbose)\n\u001b[0;32m--> 477\u001b[0m \u001b[38;5;28;01mreturn\u001b[39;00m \u001b[43mBatchEncoding\u001b[49m\u001b[43m(\u001b[49m\u001b[43msanitized_tokens\u001b[49m\u001b[43m,\u001b[49m\u001b[43m \u001b[49m\u001b[43msanitized_encodings\u001b[49m\u001b[43m,\u001b[49m\u001b[43m \u001b[49m\u001b[43mtensor_type\u001b[49m\u001b[38;5;241;43m=\u001b[39;49m\u001b[43mreturn_tensors\u001b[49m\u001b[43m)\u001b[49m\n",
      "File \u001b[0;32m~/anaconda3/lib/python3.8/site-packages/transformers/tokenization_utils_base.py:210\u001b[0m, in \u001b[0;36mBatchEncoding.__init__\u001b[0;34m(self, data, encoding, tensor_type, prepend_batch_axis, n_sequences)\u001b[0m\n\u001b[1;32m    206\u001b[0m     n_sequences \u001b[38;5;241m=\u001b[39m encoding[\u001b[38;5;241m0\u001b[39m]\u001b[38;5;241m.\u001b[39mn_sequences\n\u001b[1;32m    208\u001b[0m \u001b[38;5;28mself\u001b[39m\u001b[38;5;241m.\u001b[39m_n_sequences \u001b[38;5;241m=\u001b[39m n_sequences\n\u001b[0;32m--> 210\u001b[0m \u001b[38;5;28;43mself\u001b[39;49m\u001b[38;5;241;43m.\u001b[39;49m\u001b[43mconvert_to_tensors\u001b[49m\u001b[43m(\u001b[49m\u001b[43mtensor_type\u001b[49m\u001b[38;5;241;43m=\u001b[39;49m\u001b[43mtensor_type\u001b[49m\u001b[43m,\u001b[49m\u001b[43m \u001b[49m\u001b[43mprepend_batch_axis\u001b[49m\u001b[38;5;241;43m=\u001b[39;49m\u001b[43mprepend_batch_axis\u001b[49m\u001b[43m)\u001b[49m\n",
      "File \u001b[0;32m~/anaconda3/lib/python3.8/site-packages/transformers/tokenization_utils_base.py:731\u001b[0m, in \u001b[0;36mBatchEncoding.convert_to_tensors\u001b[0;34m(self, tensor_type, prepend_batch_axis)\u001b[0m\n\u001b[1;32m    726\u001b[0m         \u001b[38;5;28;01mif\u001b[39;00m key \u001b[38;5;241m==\u001b[39m \u001b[38;5;124m\"\u001b[39m\u001b[38;5;124moverflowing_tokens\u001b[39m\u001b[38;5;124m\"\u001b[39m:\n\u001b[1;32m    727\u001b[0m             \u001b[38;5;28;01mraise\u001b[39;00m \u001b[38;5;167;01mValueError\u001b[39;00m(\n\u001b[1;32m    728\u001b[0m                 \u001b[38;5;124m\"\u001b[39m\u001b[38;5;124mUnable to create tensor returning overflowing tokens of different lengths. \u001b[39m\u001b[38;5;124m\"\u001b[39m\n\u001b[1;32m    729\u001b[0m                 \u001b[38;5;124m\"\u001b[39m\u001b[38;5;124mPlease see if a fast version of this tokenizer is available to have this feature available.\u001b[39m\u001b[38;5;124m\"\u001b[39m\n\u001b[1;32m    730\u001b[0m             )\n\u001b[0;32m--> 731\u001b[0m         \u001b[38;5;28;01mraise\u001b[39;00m \u001b[38;5;167;01mValueError\u001b[39;00m(\n\u001b[1;32m    732\u001b[0m             \u001b[38;5;124m\"\u001b[39m\u001b[38;5;124mUnable to create tensor, you should probably activate truncation and/or padding with\u001b[39m\u001b[38;5;124m\"\u001b[39m\n\u001b[1;32m    733\u001b[0m             \u001b[38;5;124m\"\u001b[39m\u001b[38;5;124m \u001b[39m\u001b[38;5;124m'\u001b[39m\u001b[38;5;124mpadding=True\u001b[39m\u001b[38;5;124m'\u001b[39m\u001b[38;5;124m \u001b[39m\u001b[38;5;124m'\u001b[39m\u001b[38;5;124mtruncation=True\u001b[39m\u001b[38;5;124m'\u001b[39m\u001b[38;5;124m to have batched tensors with the same length. Perhaps your\u001b[39m\u001b[38;5;124m\"\u001b[39m\n\u001b[1;32m    734\u001b[0m             \u001b[38;5;124mf\u001b[39m\u001b[38;5;124m\"\u001b[39m\u001b[38;5;124m features (`\u001b[39m\u001b[38;5;132;01m{\u001b[39;00mkey\u001b[38;5;132;01m}\u001b[39;00m\u001b[38;5;124m` in this case) have excessive nesting (inputs type `list` where type `int` is\u001b[39m\u001b[38;5;124m\"\u001b[39m\n\u001b[1;32m    735\u001b[0m             \u001b[38;5;124m\"\u001b[39m\u001b[38;5;124m expected).\u001b[39m\u001b[38;5;124m\"\u001b[39m\n\u001b[1;32m    736\u001b[0m         )\n\u001b[1;32m    738\u001b[0m \u001b[38;5;28;01mreturn\u001b[39;00m \u001b[38;5;28mself\u001b[39m\n",
      "\u001b[0;31mValueError\u001b[0m: Unable to create tensor, you should probably activate truncation and/or padding with 'padding=True' 'truncation=True' to have batched tensors with the same length. Perhaps your features (`input_ids` in this case) have excessive nesting (inputs type `list` where type `int` is expected)."
     ]
    }
   ],
   "source": [
    "bertscore = BERTScore()\n",
    "scores = bertscore(orig, preds)\n",
    "np.mean(scores[\"precision\"]), np.mean(scores[\"recall\"]), np.mean(scores[\"f1\"])"
   ]
  },
  {
   "cell_type": "markdown",
   "id": "46956bc1",
   "metadata": {},
   "source": [
    "## Sentiment Analysis"
   ]
  },
  {
   "cell_type": "code",
   "execution_count": null,
   "id": "6adf5c8d",
   "metadata": {},
   "outputs": [],
   "source": [
    "sid = SentimentIntensityAnalyzer()\n",
    "pos_ratios, neu_ratios, neg_ratios = [], [], []\n",
    "for o, p in zip(orig, preds):\n",
    "    ss_orig = sid.polarity_scores(o)\n",
    "    ss_pred = sid.polarity_scores(p)\n",
    "    \n",
    "    ori_neg = ss_orig[\"neg\"]\n",
    "    ori_neu = ss_orig[\"neu\"]\n",
    "    ori_pos = ss_orig[\"pos\"]\n",
    "    \n",
    "    pred_neg = ss_pred[\"neg\"]\n",
    "    pred_neu = ss_pred[\"neu\"]\n",
    "    pred_pos = ss_pred[\"pos\"]\n",
    "    \n",
    "    if ori_neg > pred_neg:\n",
    "        neg_ratios.append(pred_neg/ori_neg)\n",
    "    elif ori_neg == 0 and pred_neg == 0:\n",
    "        neg_ratios.append(1)\n",
    "    else:\n",
    "        neg_ratios.append(ori_neg/pred_neg)\n",
    "        \n",
    "\n",
    "    if ori_neu > pred_neu:\n",
    "        neu_ratios.append(pred_neu/ori_neu)\n",
    "    elif ori_neu == 0 and pred_neu == 0:\n",
    "        neu_ratios.append(1)\n",
    "    else:\n",
    "        neu_ratios.append(ori_neu/pred_neu)\n",
    "\n",
    "    if ori_pos > pred_pos:\n",
    "        pos_ratios.append(pred_pos/ori_pos)\n",
    "    elif ori_pos == 0 and ori_pos == 0:\n",
    "        pos_ratios.append(1)\n",
    "    else:\n",
    "        pos_ratios.append(ori_pos/pred_pos)\n",
    "\n",
    "np.mean(pos_ratios), np.mean(neu_ratios), np.mean(neg_ratios)"
   ]
  },
  {
   "cell_type": "code",
   "execution_count": null,
   "id": "e647acd1",
   "metadata": {},
   "outputs": [],
   "source": []
  }
 ],
 "metadata": {
  "kernelspec": {
   "display_name": "Python 3",
   "language": "python",
   "name": "python3"
  },
  "language_info": {
   "codemirror_mode": {
    "name": "ipython",
    "version": 3
   },
   "file_extension": ".py",
   "mimetype": "text/x-python",
   "name": "python",
   "nbconvert_exporter": "python",
   "pygments_lexer": "ipython3",
   "version": "3.8.5"
  }
 },
 "nbformat": 4,
 "nbformat_minor": 5
}
